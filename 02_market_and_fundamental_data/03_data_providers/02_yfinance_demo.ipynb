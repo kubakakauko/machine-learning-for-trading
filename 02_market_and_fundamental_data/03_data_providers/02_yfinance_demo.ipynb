{
 "cells": [
  {
   "cell_type": "markdown",
   "metadata": {},
   "source": [
    "# Downloading Market and Fundamental Data with `yfinance`"
   ]
  },
  {
   "cell_type": "markdown",
   "metadata": {},
   "source": [
    "## Imports & Settings"
   ]
  },
  {
   "cell_type": "code",
   "execution_count": 5,
   "metadata": {
    "ExecuteTime": {
     "end_time": "2020-12-30T22:10:17.912280Z",
     "start_time": "2020-12-30T22:10:17.910159Z"
    }
   },
   "outputs": [],
   "source": [
    "import warnings\n",
    "warnings.filterwarnings('ignore')"
   ]
  },
  {
   "cell_type": "code",
   "execution_count": 6,
   "metadata": {
    "ExecuteTime": {
     "end_time": "2020-12-30T22:10:18.106348Z",
     "start_time": "2020-12-30T22:10:17.915000Z"
    }
   },
   "outputs": [],
   "source": [
    "import pandas as pd\n",
    "import yfinance as yf"
   ]
  },
  {
   "cell_type": "markdown",
   "metadata": {},
   "source": [
    "## How to work with a Ticker object"
   ]
  },
  {
   "cell_type": "code",
   "execution_count": 7,
   "metadata": {
    "ExecuteTime": {
     "end_time": "2020-12-30T22:10:18.113266Z",
     "start_time": "2020-12-30T22:10:18.107256Z"
    }
   },
   "outputs": [],
   "source": [
    "symbol = 'FB'\n",
    "ticker = yf.Ticker(symbol)"
   ]
  },
  {
   "cell_type": "markdown",
   "metadata": {},
   "source": [
    "### Show ticker info"
   ]
  },
  {
   "cell_type": "code",
   "execution_count": 8,
   "metadata": {
    "ExecuteTime": {
     "end_time": "2020-12-30T22:10:19.850491Z",
     "start_time": "2020-12-30T22:10:18.114284Z"
    }
   },
   "outputs": [
    {
     "data": {
      "text/plain": [
       "quoteType                                           NONE\n",
       "symbol                                                FB\n",
       "underlyingSymbol                                      FB\n",
       "uuid                30781f1f-c2f9-342c-ab1a-d2f6f35a51db\n",
       "maxAge                                             86400\n",
       "trailingPegRatio                                    None\n",
       "dtype: object"
      ]
     },
     "execution_count": 8,
     "metadata": {},
     "output_type": "execute_result"
    }
   ],
   "source": [
    "pd.Series(ticker.info).head(20)"
   ]
  },
  {
   "cell_type": "markdown",
   "metadata": {},
   "source": [
    "### Get market data"
   ]
  },
  {
   "cell_type": "code",
   "execution_count": 9,
   "metadata": {
    "ExecuteTime": {
     "end_time": "2020-12-30T22:10:20.144321Z",
     "start_time": "2020-12-30T22:10:19.854215Z"
    }
   },
   "outputs": [
    {
     "name": "stderr",
     "output_type": "stream",
     "text": [
      "FB: No data found, symbol may be delisted\n"
     ]
    },
    {
     "name": "stdout",
     "output_type": "stream",
     "text": [
      "<class 'pandas.core.frame.DataFrame'>\n",
      "Index: 0 entries\n",
      "Data columns (total 6 columns):\n",
      " #   Column     Non-Null Count  Dtype  \n",
      "---  ------     --------------  -----  \n",
      " 0   Open       0 non-null      float64\n",
      " 1   High       0 non-null      float64\n",
      " 2   Low        0 non-null      float64\n",
      " 3   Close      0 non-null      float64\n",
      " 4   Adj Close  0 non-null      float64\n",
      " 5   Volume     0 non-null      float64\n",
      "dtypes: float64(6)\n",
      "memory usage: 0.0+ bytes\n"
     ]
    }
   ],
   "source": [
    "data = ticker.history(period='5d',\n",
    "                      interval='1m',\n",
    "                      start=None,\n",
    "                      end=None,\n",
    "                      actions=True,\n",
    "                      auto_adjust=True,\n",
    "                      back_adjust=False)\n",
    "data.info()"
   ]
  },
  {
   "cell_type": "markdown",
   "metadata": {},
   "source": [
    "### View company actions"
   ]
  },
  {
   "cell_type": "code",
   "execution_count": 10,
   "metadata": {
    "ExecuteTime": {
     "end_time": "2020-12-30T22:10:20.151969Z",
     "start_time": "2020-12-30T22:10:20.145305Z"
    }
   },
   "outputs": [
    {
     "name": "stderr",
     "output_type": "stream",
     "text": [
      "$FB: possibly delisted; No timezone found\n"
     ]
    },
    {
     "data": {
      "text/plain": [
       "Series([], dtype: float64)"
      ]
     },
     "execution_count": 10,
     "metadata": {},
     "output_type": "execute_result"
    }
   ],
   "source": [
    "# show actions (dividends, splits)\n",
    "ticker.actions"
   ]
  },
  {
   "cell_type": "code",
   "execution_count": 11,
   "metadata": {
    "ExecuteTime": {
     "end_time": "2020-12-30T22:10:20.162584Z",
     "start_time": "2020-12-30T22:10:20.152852Z"
    }
   },
   "outputs": [
    {
     "name": "stderr",
     "output_type": "stream",
     "text": [
      "$FB: possibly delisted; No timezone found\n"
     ]
    },
    {
     "data": {
      "text/plain": [
       "Series([], dtype: float64)"
      ]
     },
     "execution_count": 11,
     "metadata": {},
     "output_type": "execute_result"
    }
   ],
   "source": [
    "ticker.dividends"
   ]
  },
  {
   "cell_type": "code",
   "execution_count": 12,
   "metadata": {
    "ExecuteTime": {
     "end_time": "2020-12-30T22:10:20.173848Z",
     "start_time": "2020-12-30T22:10:20.163395Z"
    }
   },
   "outputs": [
    {
     "name": "stderr",
     "output_type": "stream",
     "text": [
      "$FB: possibly delisted; No timezone found\n"
     ]
    },
    {
     "data": {
      "text/plain": [
       "Series([], dtype: float64)"
      ]
     },
     "execution_count": 12,
     "metadata": {},
     "output_type": "execute_result"
    }
   ],
   "source": [
    "ticker.splits"
   ]
  },
  {
   "cell_type": "markdown",
   "metadata": {},
   "source": [
    "### Annual and Quarterly Financial Statement Summary"
   ]
  },
  {
   "cell_type": "code",
   "execution_count": 13,
   "metadata": {
    "ExecuteTime": {
     "end_time": "2020-12-30T22:10:20.184437Z",
     "start_time": "2020-12-30T22:10:20.176409Z"
    }
   },
   "outputs": [
    {
     "data": {
      "text/html": [
       "<div>\n",
       "<style scoped>\n",
       "    .dataframe tbody tr th:only-of-type {\n",
       "        vertical-align: middle;\n",
       "    }\n",
       "\n",
       "    .dataframe tbody tr th {\n",
       "        vertical-align: top;\n",
       "    }\n",
       "\n",
       "    .dataframe thead th {\n",
       "        text-align: right;\n",
       "    }\n",
       "</style>\n",
       "<table border=\"1\" class=\"dataframe\">\n",
       "  <thead>\n",
       "    <tr style=\"text-align: right;\">\n",
       "      <th></th>\n",
       "    </tr>\n",
       "  </thead>\n",
       "  <tbody>\n",
       "  </tbody>\n",
       "</table>\n",
       "</div>"
      ],
      "text/plain": [
       "Empty DataFrame\n",
       "Columns: []\n",
       "Index: []"
      ]
     },
     "execution_count": 13,
     "metadata": {},
     "output_type": "execute_result"
    }
   ],
   "source": [
    "ticker.financials"
   ]
  },
  {
   "cell_type": "code",
   "execution_count": 14,
   "metadata": {
    "ExecuteTime": {
     "end_time": "2020-12-30T22:10:20.196645Z",
     "start_time": "2020-12-30T22:10:20.186246Z"
    }
   },
   "outputs": [
    {
     "data": {
      "text/html": [
       "<div>\n",
       "<style scoped>\n",
       "    .dataframe tbody tr th:only-of-type {\n",
       "        vertical-align: middle;\n",
       "    }\n",
       "\n",
       "    .dataframe tbody tr th {\n",
       "        vertical-align: top;\n",
       "    }\n",
       "\n",
       "    .dataframe thead th {\n",
       "        text-align: right;\n",
       "    }\n",
       "</style>\n",
       "<table border=\"1\" class=\"dataframe\">\n",
       "  <thead>\n",
       "    <tr style=\"text-align: right;\">\n",
       "      <th></th>\n",
       "    </tr>\n",
       "  </thead>\n",
       "  <tbody>\n",
       "  </tbody>\n",
       "</table>\n",
       "</div>"
      ],
      "text/plain": [
       "Empty DataFrame\n",
       "Columns: []\n",
       "Index: []"
      ]
     },
     "execution_count": 14,
     "metadata": {},
     "output_type": "execute_result"
    }
   ],
   "source": [
    "ticker.quarterly_financials"
   ]
  },
  {
   "cell_type": "markdown",
   "metadata": {},
   "source": [
    "### Annual and Quarterly Balance Sheet"
   ]
  },
  {
   "cell_type": "code",
   "execution_count": 15,
   "metadata": {
    "ExecuteTime": {
     "end_time": "2020-12-30T22:10:20.206470Z",
     "start_time": "2020-12-30T22:10:20.197694Z"
    }
   },
   "outputs": [
    {
     "data": {
      "text/html": [
       "<div>\n",
       "<style scoped>\n",
       "    .dataframe tbody tr th:only-of-type {\n",
       "        vertical-align: middle;\n",
       "    }\n",
       "\n",
       "    .dataframe tbody tr th {\n",
       "        vertical-align: top;\n",
       "    }\n",
       "\n",
       "    .dataframe thead th {\n",
       "        text-align: right;\n",
       "    }\n",
       "</style>\n",
       "<table border=\"1\" class=\"dataframe\">\n",
       "  <thead>\n",
       "    <tr style=\"text-align: right;\">\n",
       "      <th></th>\n",
       "    </tr>\n",
       "  </thead>\n",
       "  <tbody>\n",
       "  </tbody>\n",
       "</table>\n",
       "</div>"
      ],
      "text/plain": [
       "Empty DataFrame\n",
       "Columns: []\n",
       "Index: []"
      ]
     },
     "execution_count": 15,
     "metadata": {},
     "output_type": "execute_result"
    }
   ],
   "source": [
    "ticker.balance_sheet"
   ]
  },
  {
   "cell_type": "code",
   "execution_count": 16,
   "metadata": {
    "ExecuteTime": {
     "end_time": "2020-12-30T22:10:20.230795Z",
     "start_time": "2020-12-30T22:10:20.207431Z"
    }
   },
   "outputs": [
    {
     "data": {
      "text/html": [
       "<div>\n",
       "<style scoped>\n",
       "    .dataframe tbody tr th:only-of-type {\n",
       "        vertical-align: middle;\n",
       "    }\n",
       "\n",
       "    .dataframe tbody tr th {\n",
       "        vertical-align: top;\n",
       "    }\n",
       "\n",
       "    .dataframe thead th {\n",
       "        text-align: right;\n",
       "    }\n",
       "</style>\n",
       "<table border=\"1\" class=\"dataframe\">\n",
       "  <thead>\n",
       "    <tr style=\"text-align: right;\">\n",
       "      <th></th>\n",
       "    </tr>\n",
       "  </thead>\n",
       "  <tbody>\n",
       "  </tbody>\n",
       "</table>\n",
       "</div>"
      ],
      "text/plain": [
       "Empty DataFrame\n",
       "Columns: []\n",
       "Index: []"
      ]
     },
     "execution_count": 16,
     "metadata": {},
     "output_type": "execute_result"
    }
   ],
   "source": [
    "ticker.quarterly_balance_sheet"
   ]
  },
  {
   "cell_type": "markdown",
   "metadata": {},
   "source": [
    "### Annual and Quarterly Cashflow Statement"
   ]
  },
  {
   "cell_type": "code",
   "execution_count": 17,
   "metadata": {
    "ExecuteTime": {
     "end_time": "2020-12-30T22:10:20.253275Z",
     "start_time": "2020-12-30T22:10:20.231815Z"
    }
   },
   "outputs": [
    {
     "data": {
      "text/html": [
       "<div>\n",
       "<style scoped>\n",
       "    .dataframe tbody tr th:only-of-type {\n",
       "        vertical-align: middle;\n",
       "    }\n",
       "\n",
       "    .dataframe tbody tr th {\n",
       "        vertical-align: top;\n",
       "    }\n",
       "\n",
       "    .dataframe thead th {\n",
       "        text-align: right;\n",
       "    }\n",
       "</style>\n",
       "<table border=\"1\" class=\"dataframe\">\n",
       "  <thead>\n",
       "    <tr style=\"text-align: right;\">\n",
       "      <th></th>\n",
       "    </tr>\n",
       "  </thead>\n",
       "  <tbody>\n",
       "  </tbody>\n",
       "</table>\n",
       "</div>"
      ],
      "text/plain": [
       "Empty DataFrame\n",
       "Columns: []\n",
       "Index: []"
      ]
     },
     "execution_count": 17,
     "metadata": {},
     "output_type": "execute_result"
    }
   ],
   "source": [
    "ticker.cashflow"
   ]
  },
  {
   "cell_type": "code",
   "execution_count": 18,
   "metadata": {
    "ExecuteTime": {
     "end_time": "2020-12-30T22:10:20.267617Z",
     "start_time": "2020-12-30T22:10:20.254020Z"
    }
   },
   "outputs": [
    {
     "data": {
      "text/html": [
       "<div>\n",
       "<style scoped>\n",
       "    .dataframe tbody tr th:only-of-type {\n",
       "        vertical-align: middle;\n",
       "    }\n",
       "\n",
       "    .dataframe tbody tr th {\n",
       "        vertical-align: top;\n",
       "    }\n",
       "\n",
       "    .dataframe thead th {\n",
       "        text-align: right;\n",
       "    }\n",
       "</style>\n",
       "<table border=\"1\" class=\"dataframe\">\n",
       "  <thead>\n",
       "    <tr style=\"text-align: right;\">\n",
       "      <th></th>\n",
       "    </tr>\n",
       "  </thead>\n",
       "  <tbody>\n",
       "  </tbody>\n",
       "</table>\n",
       "</div>"
      ],
      "text/plain": [
       "Empty DataFrame\n",
       "Columns: []\n",
       "Index: []"
      ]
     },
     "execution_count": 18,
     "metadata": {},
     "output_type": "execute_result"
    }
   ],
   "source": [
    "ticker.quarterly_cashflow"
   ]
  },
  {
   "cell_type": "code",
   "execution_count": 19,
   "metadata": {
    "ExecuteTime": {
     "end_time": "2020-12-30T22:10:20.279600Z",
     "start_time": "2020-12-30T22:10:20.268571Z"
    }
   },
   "outputs": [],
   "source": [
    "ticker.earnings"
   ]
  },
  {
   "cell_type": "code",
   "execution_count": 20,
   "metadata": {
    "ExecuteTime": {
     "end_time": "2020-12-30T22:10:20.291334Z",
     "start_time": "2020-12-30T22:10:20.280662Z"
    }
   },
   "outputs": [],
   "source": [
    "ticker.quarterly_earnings"
   ]
  },
  {
   "cell_type": "markdown",
   "metadata": {},
   "source": [
    "### Sustainability: Environmental, Social and Governance (ESG)"
   ]
  },
  {
   "cell_type": "code",
   "execution_count": 21,
   "metadata": {
    "ExecuteTime": {
     "end_time": "2020-12-30T22:10:20.306584Z",
     "start_time": "2020-12-30T22:10:20.292531Z"
    }
   },
   "outputs": [
    {
     "name": "stderr",
     "output_type": "stream",
     "text": [
      "404 Client Error: Not Found for url: https://query2.finance.yahoo.com/v10/finance/quoteSummary/FB?modules=esgScores&corsDomain=finance.yahoo.com&formatted=false&symbol=FB&crumb=RwDVGa4Cp3a\n"
     ]
    },
    {
     "data": {
      "text/html": [
       "<div>\n",
       "<style scoped>\n",
       "    .dataframe tbody tr th:only-of-type {\n",
       "        vertical-align: middle;\n",
       "    }\n",
       "\n",
       "    .dataframe tbody tr th {\n",
       "        vertical-align: top;\n",
       "    }\n",
       "\n",
       "    .dataframe thead th {\n",
       "        text-align: right;\n",
       "    }\n",
       "</style>\n",
       "<table border=\"1\" class=\"dataframe\">\n",
       "  <thead>\n",
       "    <tr style=\"text-align: right;\">\n",
       "      <th></th>\n",
       "    </tr>\n",
       "  </thead>\n",
       "  <tbody>\n",
       "  </tbody>\n",
       "</table>\n",
       "</div>"
      ],
      "text/plain": [
       "Empty DataFrame\n",
       "Columns: []\n",
       "Index: []"
      ]
     },
     "execution_count": 21,
     "metadata": {},
     "output_type": "execute_result"
    }
   ],
   "source": [
    "ticker.sustainability"
   ]
  },
  {
   "cell_type": "markdown",
   "metadata": {},
   "source": [
    "### Analyst Recommendations"
   ]
  },
  {
   "cell_type": "code",
   "execution_count": 22,
   "metadata": {
    "ExecuteTime": {
     "end_time": "2020-12-30T22:10:20.322318Z",
     "start_time": "2020-12-30T22:10:20.307914Z"
    }
   },
   "outputs": [
    {
     "name": "stderr",
     "output_type": "stream",
     "text": [
      "404 Client Error: Not Found for url: https://query2.finance.yahoo.com/v10/finance/quoteSummary/FB?modules=recommendationTrend&corsDomain=finance.yahoo.com&formatted=false&symbol=FB&crumb=RwDVGa4Cp3a\n"
     ]
    },
    {
     "name": "stdout",
     "output_type": "stream",
     "text": [
      "<class 'pandas.core.frame.DataFrame'>\n",
      "Index: 0 entries\n",
      "Empty DataFrame\n"
     ]
    }
   ],
   "source": [
    "ticker.recommendations.info()"
   ]
  },
  {
   "cell_type": "code",
   "execution_count": 23,
   "metadata": {
    "ExecuteTime": {
     "end_time": "2020-12-30T22:10:20.334167Z",
     "start_time": "2020-12-30T22:10:20.323193Z"
    }
   },
   "outputs": [
    {
     "data": {
      "text/html": [
       "<div>\n",
       "<style scoped>\n",
       "    .dataframe tbody tr th:only-of-type {\n",
       "        vertical-align: middle;\n",
       "    }\n",
       "\n",
       "    .dataframe tbody tr th {\n",
       "        vertical-align: top;\n",
       "    }\n",
       "\n",
       "    .dataframe thead th {\n",
       "        text-align: right;\n",
       "    }\n",
       "</style>\n",
       "<table border=\"1\" class=\"dataframe\">\n",
       "  <thead>\n",
       "    <tr style=\"text-align: right;\">\n",
       "      <th></th>\n",
       "    </tr>\n",
       "  </thead>\n",
       "  <tbody>\n",
       "  </tbody>\n",
       "</table>\n",
       "</div>"
      ],
      "text/plain": [
       "Empty DataFrame\n",
       "Columns: []\n",
       "Index: []"
      ]
     },
     "execution_count": 23,
     "metadata": {},
     "output_type": "execute_result"
    }
   ],
   "source": [
    "ticker.recommendations.tail(10)"
   ]
  },
  {
   "cell_type": "markdown",
   "metadata": {},
   "source": [
    "### Upcoming Events"
   ]
  },
  {
   "cell_type": "code",
   "execution_count": 24,
   "metadata": {
    "ExecuteTime": {
     "end_time": "2020-12-30T22:10:20.347731Z",
     "start_time": "2020-12-30T22:10:20.334969Z"
    }
   },
   "outputs": [
    {
     "name": "stderr",
     "output_type": "stream",
     "text": [
      "404 Client Error: Not Found for url: https://query2.finance.yahoo.com/v10/finance/quoteSummary/FB?modules=calendarEvents&corsDomain=finance.yahoo.com&formatted=false&symbol=FB&crumb=RwDVGa4Cp3a\n"
     ]
    },
    {
     "data": {
      "text/plain": [
       "{}"
      ]
     },
     "execution_count": 24,
     "metadata": {},
     "output_type": "execute_result"
    }
   ],
   "source": [
    "ticker.calendar"
   ]
  },
  {
   "cell_type": "markdown",
   "metadata": {},
   "source": [
    "### Option Expiration Dates"
   ]
  },
  {
   "cell_type": "code",
   "execution_count": 25,
   "metadata": {
    "ExecuteTime": {
     "end_time": "2020-12-30T22:10:20.509948Z",
     "start_time": "2020-12-30T22:10:20.348676Z"
    }
   },
   "outputs": [
    {
     "data": {
      "text/plain": [
       "('2026-02-21',)"
      ]
     },
     "execution_count": 25,
     "metadata": {},
     "output_type": "execute_result"
    }
   ],
   "source": [
    "ticker.options"
   ]
  },
  {
   "cell_type": "code",
   "execution_count": 26,
   "metadata": {
    "ExecuteTime": {
     "end_time": "2020-12-30T22:10:20.513149Z",
     "start_time": "2020-12-30T22:10:20.511181Z"
    }
   },
   "outputs": [],
   "source": [
    "expiration = ticker.options[0]"
   ]
  },
  {
   "cell_type": "code",
   "execution_count": 27,
   "metadata": {
    "ExecuteTime": {
     "end_time": "2020-12-30T22:10:20.930665Z",
     "start_time": "2020-12-30T22:10:20.514018Z"
    }
   },
   "outputs": [],
   "source": [
    "options = ticker.option_chain(expiration)"
   ]
  },
  {
   "cell_type": "code",
   "execution_count": 28,
   "metadata": {
    "ExecuteTime": {
     "end_time": "2020-12-30T22:10:20.954610Z",
     "start_time": "2020-12-30T22:10:20.938467Z"
    }
   },
   "outputs": [
    {
     "name": "stdout",
     "output_type": "stream",
     "text": [
      "<class 'pandas.core.frame.DataFrame'>\n",
      "Index: 0 entries\n",
      "Data columns (total 14 columns):\n",
      " #   Column             Non-Null Count  Dtype              \n",
      "---  ------             --------------  -----              \n",
      " 0   contractSymbol     0 non-null      float64            \n",
      " 1   lastTradeDate      0 non-null      datetime64[ns, UTC]\n",
      " 2   strike             0 non-null      float64            \n",
      " 3   lastPrice          0 non-null      float64            \n",
      " 4   bid                0 non-null      float64            \n",
      " 5   ask                0 non-null      float64            \n",
      " 6   change             0 non-null      float64            \n",
      " 7   percentChange      0 non-null      float64            \n",
      " 8   volume             0 non-null      float64            \n",
      " 9   openInterest       0 non-null      float64            \n",
      " 10  impliedVolatility  0 non-null      float64            \n",
      " 11  inTheMoney         0 non-null      float64            \n",
      " 12  contractSize       0 non-null      float64            \n",
      " 13  currency           0 non-null      float64            \n",
      "dtypes: datetime64[ns, UTC](1), float64(13)\n",
      "memory usage: 0.0+ bytes\n"
     ]
    }
   ],
   "source": [
    "options.calls.info()"
   ]
  },
  {
   "cell_type": "code",
   "execution_count": 29,
   "metadata": {
    "ExecuteTime": {
     "end_time": "2020-12-30T22:10:20.974092Z",
     "start_time": "2020-12-30T22:10:20.956269Z"
    }
   },
   "outputs": [
    {
     "data": {
      "text/html": [
       "<div>\n",
       "<style scoped>\n",
       "    .dataframe tbody tr th:only-of-type {\n",
       "        vertical-align: middle;\n",
       "    }\n",
       "\n",
       "    .dataframe tbody tr th {\n",
       "        vertical-align: top;\n",
       "    }\n",
       "\n",
       "    .dataframe thead th {\n",
       "        text-align: right;\n",
       "    }\n",
       "</style>\n",
       "<table border=\"1\" class=\"dataframe\">\n",
       "  <thead>\n",
       "    <tr style=\"text-align: right;\">\n",
       "      <th></th>\n",
       "      <th>contractSymbol</th>\n",
       "      <th>lastTradeDate</th>\n",
       "      <th>strike</th>\n",
       "      <th>lastPrice</th>\n",
       "      <th>bid</th>\n",
       "      <th>ask</th>\n",
       "      <th>change</th>\n",
       "      <th>percentChange</th>\n",
       "      <th>volume</th>\n",
       "      <th>openInterest</th>\n",
       "      <th>impliedVolatility</th>\n",
       "      <th>inTheMoney</th>\n",
       "      <th>contractSize</th>\n",
       "      <th>currency</th>\n",
       "    </tr>\n",
       "  </thead>\n",
       "  <tbody>\n",
       "  </tbody>\n",
       "</table>\n",
       "</div>"
      ],
      "text/plain": [
       "Empty DataFrame\n",
       "Columns: [contractSymbol, lastTradeDate, strike, lastPrice, bid, ask, change, percentChange, volume, openInterest, impliedVolatility, inTheMoney, contractSize, currency]\n",
       "Index: []"
      ]
     },
     "execution_count": 29,
     "metadata": {},
     "output_type": "execute_result"
    }
   ],
   "source": [
    "options.calls.head()"
   ]
  },
  {
   "cell_type": "code",
   "execution_count": 30,
   "metadata": {
    "ExecuteTime": {
     "end_time": "2020-12-30T22:10:20.990394Z",
     "start_time": "2020-12-30T22:10:20.975343Z"
    }
   },
   "outputs": [
    {
     "name": "stdout",
     "output_type": "stream",
     "text": [
      "<class 'pandas.core.frame.DataFrame'>\n",
      "Index: 0 entries\n",
      "Data columns (total 14 columns):\n",
      " #   Column             Non-Null Count  Dtype              \n",
      "---  ------             --------------  -----              \n",
      " 0   contractSymbol     0 non-null      float64            \n",
      " 1   lastTradeDate      0 non-null      datetime64[ns, UTC]\n",
      " 2   strike             0 non-null      float64            \n",
      " 3   lastPrice          0 non-null      float64            \n",
      " 4   bid                0 non-null      float64            \n",
      " 5   ask                0 non-null      float64            \n",
      " 6   change             0 non-null      float64            \n",
      " 7   percentChange      0 non-null      float64            \n",
      " 8   volume             0 non-null      float64            \n",
      " 9   openInterest       0 non-null      float64            \n",
      " 10  impliedVolatility  0 non-null      float64            \n",
      " 11  inTheMoney         0 non-null      float64            \n",
      " 12  contractSize       0 non-null      float64            \n",
      " 13  currency           0 non-null      float64            \n",
      "dtypes: datetime64[ns, UTC](1), float64(13)\n",
      "memory usage: 0.0+ bytes\n"
     ]
    }
   ],
   "source": [
    "options.puts.info()"
   ]
  },
  {
   "cell_type": "markdown",
   "metadata": {},
   "source": [
    "## Data Download with proxy server"
   ]
  },
  {
   "cell_type": "markdown",
   "metadata": {},
   "source": [
    "You can use a proxy server to avoid having your IP blacklisted as illustrated below (but need an actual PROXY_SERVER)."
   ]
  },
  {
   "cell_type": "code",
   "execution_count": 31,
   "metadata": {
    "ExecuteTime": {
     "end_time": "2020-12-30T22:10:20.998688Z",
     "start_time": "2020-12-30T22:10:20.991430Z"
    }
   },
   "outputs": [],
   "source": [
    "PROXY_SERVER = 'PROXY_SERVER'"
   ]
  },
  {
   "cell_type": "markdown",
   "metadata": {},
   "source": [
    "The following will only work with proper PROXY_SERVER..."
   ]
  },
  {
   "cell_type": "code",
   "execution_count": 32,
   "metadata": {
    "ExecuteTime": {
     "end_time": "2020-12-30T22:10:21.007009Z",
     "start_time": "2020-12-30T22:10:20.999596Z"
    }
   },
   "outputs": [],
   "source": [
    "# msft = yf.Ticker(\"MSFT\")\n",
    "\n",
    "# msft.history(proxy=PROXY_SERVER)\n",
    "# msft.get_actions(proxy=PROXY_SERVER)\n",
    "# msft.get_dividends(proxy=PROXY_SERVER)\n",
    "# msft.get_splits(proxy=PROXY_SERVER)\n",
    "# msft.get_balance_sheet(proxy=PROXY_SERVER)\n",
    "# msft.get_cashflow(proxy=PROXY_SERVER)\n",
    "# msft.option_chain(proxy=PROXY_SERVER)"
   ]
  },
  {
   "cell_type": "markdown",
   "metadata": {},
   "source": [
    "## Downloading multiple symbols"
   ]
  },
  {
   "cell_type": "code",
   "execution_count": 33,
   "metadata": {
    "ExecuteTime": {
     "end_time": "2020-12-30T22:10:21.023516Z",
     "start_time": "2020-12-30T22:10:21.007945Z"
    }
   },
   "outputs": [],
   "source": [
    "tickers = yf.Tickers('msft aapl goog')"
   ]
  },
  {
   "cell_type": "code",
   "execution_count": 34,
   "metadata": {
    "ExecuteTime": {
     "end_time": "2020-12-30T22:10:21.027641Z",
     "start_time": "2020-12-30T22:10:21.024445Z"
    }
   },
   "outputs": [
    {
     "data": {
      "text/plain": [
       "yfinance.Tickers object <MSFT,AAPL,GOOG>"
      ]
     },
     "execution_count": 34,
     "metadata": {},
     "output_type": "execute_result"
    }
   ],
   "source": [
    "tickers"
   ]
  },
  {
   "cell_type": "code",
   "execution_count": 35,
   "metadata": {
    "ExecuteTime": {
     "end_time": "2020-12-30T22:10:22.222298Z",
     "start_time": "2020-12-30T22:10:21.028540Z"
    }
   },
   "outputs": [
    {
     "data": {
      "text/plain": [
       "address1             One Microsoft Way\n",
       "city                           Redmond\n",
       "state                               WA\n",
       "zip                         98052-6399\n",
       "country                  United States\n",
       "                           ...        \n",
       "grossMargins                   0.69764\n",
       "ebitdaMargins                  0.52804\n",
       "operatingMargins               0.43143\n",
       "financialCurrency                  USD\n",
       "trailingPegRatio                2.2084\n",
       "Length: 132, dtype: object"
      ]
     },
     "execution_count": 35,
     "metadata": {},
     "output_type": "execute_result"
    }
   ],
   "source": [
    "pd.Series(tickers.tickers['MSFT'].info)"
   ]
  },
  {
   "cell_type": "code",
   "execution_count": 36,
   "metadata": {
    "ExecuteTime": {
     "end_time": "2020-12-30T22:10:22.609960Z",
     "start_time": "2020-12-30T22:10:22.223131Z"
    }
   },
   "outputs": [
    {
     "data": {
      "text/html": [
       "<div>\n",
       "<style scoped>\n",
       "    .dataframe tbody tr th:only-of-type {\n",
       "        vertical-align: middle;\n",
       "    }\n",
       "\n",
       "    .dataframe tbody tr th {\n",
       "        vertical-align: top;\n",
       "    }\n",
       "\n",
       "    .dataframe thead th {\n",
       "        text-align: right;\n",
       "    }\n",
       "</style>\n",
       "<table border=\"1\" class=\"dataframe\">\n",
       "  <thead>\n",
       "    <tr style=\"text-align: right;\">\n",
       "      <th></th>\n",
       "      <th>Open</th>\n",
       "      <th>High</th>\n",
       "      <th>Low</th>\n",
       "      <th>Close</th>\n",
       "      <th>Volume</th>\n",
       "      <th>Dividends</th>\n",
       "      <th>Stock Splits</th>\n",
       "    </tr>\n",
       "    <tr>\n",
       "      <th>Date</th>\n",
       "      <th></th>\n",
       "      <th></th>\n",
       "      <th></th>\n",
       "      <th></th>\n",
       "      <th></th>\n",
       "      <th></th>\n",
       "      <th></th>\n",
       "    </tr>\n",
       "  </thead>\n",
       "  <tbody>\n",
       "    <tr>\n",
       "      <th>2024-08-05 00:00:00-04:00</th>\n",
       "      <td>198.859822</td>\n",
       "      <td>213.253166</td>\n",
       "      <td>195.773398</td>\n",
       "      <td>209.028061</td>\n",
       "      <td>119548600</td>\n",
       "      <td>0.00</td>\n",
       "      <td>0.0</td>\n",
       "    </tr>\n",
       "    <tr>\n",
       "      <th>2024-08-06 00:00:00-04:00</th>\n",
       "      <td>205.062641</td>\n",
       "      <td>209.747221</td>\n",
       "      <td>200.837536</td>\n",
       "      <td>206.990402</td>\n",
       "      <td>69660500</td>\n",
       "      <td>0.00</td>\n",
       "      <td>0.0</td>\n",
       "    </tr>\n",
       "    <tr>\n",
       "      <th>2024-08-07 00:00:00-04:00</th>\n",
       "      <td>206.660786</td>\n",
       "      <td>213.392999</td>\n",
       "      <td>206.151381</td>\n",
       "      <td>209.577423</td>\n",
       "      <td>63516400</td>\n",
       "      <td>0.00</td>\n",
       "      <td>0.0</td>\n",
       "    </tr>\n",
       "    <tr>\n",
       "      <th>2024-08-08 00:00:00-04:00</th>\n",
       "      <td>212.863619</td>\n",
       "      <td>213.952355</td>\n",
       "      <td>208.588569</td>\n",
       "      <td>213.063385</td>\n",
       "      <td>47161100</td>\n",
       "      <td>0.00</td>\n",
       "      <td>0.0</td>\n",
       "    </tr>\n",
       "    <tr>\n",
       "      <th>2024-08-09 00:00:00-04:00</th>\n",
       "      <td>211.854792</td>\n",
       "      <td>216.529374</td>\n",
       "      <td>211.724938</td>\n",
       "      <td>215.990005</td>\n",
       "      <td>42201600</td>\n",
       "      <td>0.00</td>\n",
       "      <td>0.0</td>\n",
       "    </tr>\n",
       "    <tr>\n",
       "      <th>2024-08-12 00:00:00-04:00</th>\n",
       "      <td>216.070007</td>\n",
       "      <td>219.509995</td>\n",
       "      <td>215.600006</td>\n",
       "      <td>217.529999</td>\n",
       "      <td>38028100</td>\n",
       "      <td>0.25</td>\n",
       "      <td>0.0</td>\n",
       "    </tr>\n",
       "    <tr>\n",
       "      <th>2024-08-13 00:00:00-04:00</th>\n",
       "      <td>219.009995</td>\n",
       "      <td>221.889999</td>\n",
       "      <td>219.009995</td>\n",
       "      <td>221.270004</td>\n",
       "      <td>44155300</td>\n",
       "      <td>0.00</td>\n",
       "      <td>0.0</td>\n",
       "    </tr>\n",
       "    <tr>\n",
       "      <th>2024-08-14 00:00:00-04:00</th>\n",
       "      <td>220.570007</td>\n",
       "      <td>223.029999</td>\n",
       "      <td>219.699997</td>\n",
       "      <td>221.720001</td>\n",
       "      <td>41960600</td>\n",
       "      <td>0.00</td>\n",
       "      <td>0.0</td>\n",
       "    </tr>\n",
       "    <tr>\n",
       "      <th>2024-08-15 00:00:00-04:00</th>\n",
       "      <td>224.600006</td>\n",
       "      <td>225.350006</td>\n",
       "      <td>222.759995</td>\n",
       "      <td>224.720001</td>\n",
       "      <td>46414000</td>\n",
       "      <td>0.00</td>\n",
       "      <td>0.0</td>\n",
       "    </tr>\n",
       "    <tr>\n",
       "      <th>2024-08-16 00:00:00-04:00</th>\n",
       "      <td>223.919998</td>\n",
       "      <td>226.830002</td>\n",
       "      <td>223.649994</td>\n",
       "      <td>226.050003</td>\n",
       "      <td>44340200</td>\n",
       "      <td>0.00</td>\n",
       "      <td>0.0</td>\n",
       "    </tr>\n",
       "    <tr>\n",
       "      <th>2024-08-19 00:00:00-04:00</th>\n",
       "      <td>225.720001</td>\n",
       "      <td>225.990005</td>\n",
       "      <td>223.039993</td>\n",
       "      <td>225.889999</td>\n",
       "      <td>40687800</td>\n",
       "      <td>0.00</td>\n",
       "      <td>0.0</td>\n",
       "    </tr>\n",
       "    <tr>\n",
       "      <th>2024-08-20 00:00:00-04:00</th>\n",
       "      <td>225.770004</td>\n",
       "      <td>227.169998</td>\n",
       "      <td>225.449997</td>\n",
       "      <td>226.509995</td>\n",
       "      <td>30299000</td>\n",
       "      <td>0.00</td>\n",
       "      <td>0.0</td>\n",
       "    </tr>\n",
       "    <tr>\n",
       "      <th>2024-08-21 00:00:00-04:00</th>\n",
       "      <td>226.520004</td>\n",
       "      <td>227.979996</td>\n",
       "      <td>225.050003</td>\n",
       "      <td>226.399994</td>\n",
       "      <td>34765500</td>\n",
       "      <td>0.00</td>\n",
       "      <td>0.0</td>\n",
       "    </tr>\n",
       "    <tr>\n",
       "      <th>2024-08-22 00:00:00-04:00</th>\n",
       "      <td>227.789993</td>\n",
       "      <td>228.339996</td>\n",
       "      <td>223.899994</td>\n",
       "      <td>224.529999</td>\n",
       "      <td>43695300</td>\n",
       "      <td>0.00</td>\n",
       "      <td>0.0</td>\n",
       "    </tr>\n",
       "    <tr>\n",
       "      <th>2024-08-23 00:00:00-04:00</th>\n",
       "      <td>225.660004</td>\n",
       "      <td>228.220001</td>\n",
       "      <td>224.330002</td>\n",
       "      <td>226.839996</td>\n",
       "      <td>38677300</td>\n",
       "      <td>0.00</td>\n",
       "      <td>0.0</td>\n",
       "    </tr>\n",
       "    <tr>\n",
       "      <th>2024-08-26 00:00:00-04:00</th>\n",
       "      <td>226.759995</td>\n",
       "      <td>227.279999</td>\n",
       "      <td>223.889999</td>\n",
       "      <td>227.179993</td>\n",
       "      <td>30602200</td>\n",
       "      <td>0.00</td>\n",
       "      <td>0.0</td>\n",
       "    </tr>\n",
       "    <tr>\n",
       "      <th>2024-08-27 00:00:00-04:00</th>\n",
       "      <td>226.000000</td>\n",
       "      <td>228.850006</td>\n",
       "      <td>224.889999</td>\n",
       "      <td>228.029999</td>\n",
       "      <td>35934600</td>\n",
       "      <td>0.00</td>\n",
       "      <td>0.0</td>\n",
       "    </tr>\n",
       "    <tr>\n",
       "      <th>2024-08-28 00:00:00-04:00</th>\n",
       "      <td>227.919998</td>\n",
       "      <td>229.860001</td>\n",
       "      <td>225.679993</td>\n",
       "      <td>226.490005</td>\n",
       "      <td>38052200</td>\n",
       "      <td>0.00</td>\n",
       "      <td>0.0</td>\n",
       "    </tr>\n",
       "    <tr>\n",
       "      <th>2024-08-29 00:00:00-04:00</th>\n",
       "      <td>230.100006</td>\n",
       "      <td>232.919998</td>\n",
       "      <td>228.880005</td>\n",
       "      <td>229.789993</td>\n",
       "      <td>51906300</td>\n",
       "      <td>0.00</td>\n",
       "      <td>0.0</td>\n",
       "    </tr>\n",
       "    <tr>\n",
       "      <th>2024-08-30 00:00:00-04:00</th>\n",
       "      <td>230.190002</td>\n",
       "      <td>230.399994</td>\n",
       "      <td>227.479996</td>\n",
       "      <td>229.000000</td>\n",
       "      <td>52990800</td>\n",
       "      <td>0.00</td>\n",
       "      <td>0.0</td>\n",
       "    </tr>\n",
       "    <tr>\n",
       "      <th>2024-09-03 00:00:00-04:00</th>\n",
       "      <td>228.550003</td>\n",
       "      <td>229.000000</td>\n",
       "      <td>221.169998</td>\n",
       "      <td>222.770004</td>\n",
       "      <td>50042900</td>\n",
       "      <td>0.00</td>\n",
       "      <td>0.0</td>\n",
       "    </tr>\n",
       "    <tr>\n",
       "      <th>2024-09-04 00:00:00-04:00</th>\n",
       "      <td>221.660004</td>\n",
       "      <td>221.755005</td>\n",
       "      <td>217.574997</td>\n",
       "      <td>217.800003</td>\n",
       "      <td>12122085</td>\n",
       "      <td>0.00</td>\n",
       "      <td>0.0</td>\n",
       "    </tr>\n",
       "  </tbody>\n",
       "</table>\n",
       "</div>"
      ],
      "text/plain": [
       "                                 Open        High         Low       Close  \\\n",
       "Date                                                                        \n",
       "2024-08-05 00:00:00-04:00  198.859822  213.253166  195.773398  209.028061   \n",
       "2024-08-06 00:00:00-04:00  205.062641  209.747221  200.837536  206.990402   \n",
       "2024-08-07 00:00:00-04:00  206.660786  213.392999  206.151381  209.577423   \n",
       "2024-08-08 00:00:00-04:00  212.863619  213.952355  208.588569  213.063385   \n",
       "2024-08-09 00:00:00-04:00  211.854792  216.529374  211.724938  215.990005   \n",
       "2024-08-12 00:00:00-04:00  216.070007  219.509995  215.600006  217.529999   \n",
       "2024-08-13 00:00:00-04:00  219.009995  221.889999  219.009995  221.270004   \n",
       "2024-08-14 00:00:00-04:00  220.570007  223.029999  219.699997  221.720001   \n",
       "2024-08-15 00:00:00-04:00  224.600006  225.350006  222.759995  224.720001   \n",
       "2024-08-16 00:00:00-04:00  223.919998  226.830002  223.649994  226.050003   \n",
       "2024-08-19 00:00:00-04:00  225.720001  225.990005  223.039993  225.889999   \n",
       "2024-08-20 00:00:00-04:00  225.770004  227.169998  225.449997  226.509995   \n",
       "2024-08-21 00:00:00-04:00  226.520004  227.979996  225.050003  226.399994   \n",
       "2024-08-22 00:00:00-04:00  227.789993  228.339996  223.899994  224.529999   \n",
       "2024-08-23 00:00:00-04:00  225.660004  228.220001  224.330002  226.839996   \n",
       "2024-08-26 00:00:00-04:00  226.759995  227.279999  223.889999  227.179993   \n",
       "2024-08-27 00:00:00-04:00  226.000000  228.850006  224.889999  228.029999   \n",
       "2024-08-28 00:00:00-04:00  227.919998  229.860001  225.679993  226.490005   \n",
       "2024-08-29 00:00:00-04:00  230.100006  232.919998  228.880005  229.789993   \n",
       "2024-08-30 00:00:00-04:00  230.190002  230.399994  227.479996  229.000000   \n",
       "2024-09-03 00:00:00-04:00  228.550003  229.000000  221.169998  222.770004   \n",
       "2024-09-04 00:00:00-04:00  221.660004  221.755005  217.574997  217.800003   \n",
       "\n",
       "                              Volume  Dividends  Stock Splits  \n",
       "Date                                                           \n",
       "2024-08-05 00:00:00-04:00  119548600       0.00           0.0  \n",
       "2024-08-06 00:00:00-04:00   69660500       0.00           0.0  \n",
       "2024-08-07 00:00:00-04:00   63516400       0.00           0.0  \n",
       "2024-08-08 00:00:00-04:00   47161100       0.00           0.0  \n",
       "2024-08-09 00:00:00-04:00   42201600       0.00           0.0  \n",
       "2024-08-12 00:00:00-04:00   38028100       0.25           0.0  \n",
       "2024-08-13 00:00:00-04:00   44155300       0.00           0.0  \n",
       "2024-08-14 00:00:00-04:00   41960600       0.00           0.0  \n",
       "2024-08-15 00:00:00-04:00   46414000       0.00           0.0  \n",
       "2024-08-16 00:00:00-04:00   44340200       0.00           0.0  \n",
       "2024-08-19 00:00:00-04:00   40687800       0.00           0.0  \n",
       "2024-08-20 00:00:00-04:00   30299000       0.00           0.0  \n",
       "2024-08-21 00:00:00-04:00   34765500       0.00           0.0  \n",
       "2024-08-22 00:00:00-04:00   43695300       0.00           0.0  \n",
       "2024-08-23 00:00:00-04:00   38677300       0.00           0.0  \n",
       "2024-08-26 00:00:00-04:00   30602200       0.00           0.0  \n",
       "2024-08-27 00:00:00-04:00   35934600       0.00           0.0  \n",
       "2024-08-28 00:00:00-04:00   38052200       0.00           0.0  \n",
       "2024-08-29 00:00:00-04:00   51906300       0.00           0.0  \n",
       "2024-08-30 00:00:00-04:00   52990800       0.00           0.0  \n",
       "2024-09-03 00:00:00-04:00   50042900       0.00           0.0  \n",
       "2024-09-04 00:00:00-04:00   12122085       0.00           0.0  "
      ]
     },
     "execution_count": 36,
     "metadata": {},
     "output_type": "execute_result"
    }
   ],
   "source": [
    "tickers.tickers['AAPL'].history(period=\"1mo\")"
   ]
  },
  {
   "cell_type": "code",
   "execution_count": 37,
   "metadata": {
    "ExecuteTime": {
     "end_time": "2020-12-30T22:10:23.079278Z",
     "start_time": "2020-12-30T22:10:22.611171Z"
    }
   },
   "outputs": [
    {
     "name": "stderr",
     "output_type": "stream",
     "text": [
      "[*********************100%%**********************]  3 of 3 completed\n"
     ]
    },
    {
     "data": {
      "text/html": [
       "<div>\n",
       "<style scoped>\n",
       "    .dataframe tbody tr th:only-of-type {\n",
       "        vertical-align: middle;\n",
       "    }\n",
       "\n",
       "    .dataframe tbody tr th {\n",
       "        vertical-align: top;\n",
       "    }\n",
       "\n",
       "    .dataframe thead th {\n",
       "        text-align: right;\n",
       "    }\n",
       "</style>\n",
       "<table border=\"1\" class=\"dataframe\">\n",
       "  <thead>\n",
       "    <tr style=\"text-align: right;\">\n",
       "      <th></th>\n",
       "      <th>Price</th>\n",
       "      <th>Close</th>\n",
       "      <th>Dividends</th>\n",
       "      <th>High</th>\n",
       "      <th>Low</th>\n",
       "      <th>Open</th>\n",
       "      <th>Stock Splits</th>\n",
       "      <th>Volume</th>\n",
       "    </tr>\n",
       "    <tr>\n",
       "      <th>Date</th>\n",
       "      <th>Ticker</th>\n",
       "      <th></th>\n",
       "      <th></th>\n",
       "      <th></th>\n",
       "      <th></th>\n",
       "      <th></th>\n",
       "      <th></th>\n",
       "      <th></th>\n",
       "    </tr>\n",
       "  </thead>\n",
       "  <tbody>\n",
       "    <tr>\n",
       "      <th rowspan=\"3\" valign=\"top\">2024-08-05</th>\n",
       "      <th>AAPL</th>\n",
       "      <td>209.028061</td>\n",
       "      <td>0.0</td>\n",
       "      <td>213.253166</td>\n",
       "      <td>195.773398</td>\n",
       "      <td>198.859822</td>\n",
       "      <td>0.0</td>\n",
       "      <td>119548600</td>\n",
       "    </tr>\n",
       "    <tr>\n",
       "      <th>GOOG</th>\n",
       "      <td>160.639999</td>\n",
       "      <td>0.0</td>\n",
       "      <td>165.940002</td>\n",
       "      <td>156.600006</td>\n",
       "      <td>157.369995</td>\n",
       "      <td>0.0</td>\n",
       "      <td>34907800</td>\n",
       "    </tr>\n",
       "    <tr>\n",
       "      <th>MSFT</th>\n",
       "      <td>394.439056</td>\n",
       "      <td>0.0</td>\n",
       "      <td>400.318474</td>\n",
       "      <td>384.886267</td>\n",
       "      <td>388.469835</td>\n",
       "      <td>0.0</td>\n",
       "      <td>40709200</td>\n",
       "    </tr>\n",
       "    <tr>\n",
       "      <th rowspan=\"2\" valign=\"top\">2024-08-06</th>\n",
       "      <th>AAPL</th>\n",
       "      <td>206.990402</td>\n",
       "      <td>0.0</td>\n",
       "      <td>209.747221</td>\n",
       "      <td>200.837536</td>\n",
       "      <td>205.062641</td>\n",
       "      <td>0.0</td>\n",
       "      <td>69660500</td>\n",
       "    </tr>\n",
       "    <tr>\n",
       "      <th>GOOG</th>\n",
       "      <td>160.539993</td>\n",
       "      <td>0.0</td>\n",
       "      <td>162.350006</td>\n",
       "      <td>158.130005</td>\n",
       "      <td>160.945007</td>\n",
       "      <td>0.0</td>\n",
       "      <td>36146500</td>\n",
       "    </tr>\n",
       "    <tr>\n",
       "      <th>...</th>\n",
       "      <th>...</th>\n",
       "      <td>...</td>\n",
       "      <td>...</td>\n",
       "      <td>...</td>\n",
       "      <td>...</td>\n",
       "      <td>...</td>\n",
       "      <td>...</td>\n",
       "      <td>...</td>\n",
       "    </tr>\n",
       "    <tr>\n",
       "      <th rowspan=\"2\" valign=\"top\">2024-09-03</th>\n",
       "      <th>GOOG</th>\n",
       "      <td>158.610001</td>\n",
       "      <td>0.0</td>\n",
       "      <td>163.380005</td>\n",
       "      <td>157.854996</td>\n",
       "      <td>163.315002</td>\n",
       "      <td>0.0</td>\n",
       "      <td>26508900</td>\n",
       "    </tr>\n",
       "    <tr>\n",
       "      <th>MSFT</th>\n",
       "      <td>409.440002</td>\n",
       "      <td>0.0</td>\n",
       "      <td>419.880005</td>\n",
       "      <td>407.029999</td>\n",
       "      <td>417.910004</td>\n",
       "      <td>0.0</td>\n",
       "      <td>20285900</td>\n",
       "    </tr>\n",
       "    <tr>\n",
       "      <th rowspan=\"3\" valign=\"top\">2024-09-04</th>\n",
       "      <th>AAPL</th>\n",
       "      <td>217.800003</td>\n",
       "      <td>0.0</td>\n",
       "      <td>221.755005</td>\n",
       "      <td>217.574997</td>\n",
       "      <td>221.660004</td>\n",
       "      <td>0.0</td>\n",
       "      <td>12144671</td>\n",
       "    </tr>\n",
       "    <tr>\n",
       "      <th>GOOG</th>\n",
       "      <td>158.910004</td>\n",
       "      <td>0.0</td>\n",
       "      <td>160.399994</td>\n",
       "      <td>157.960007</td>\n",
       "      <td>158.089996</td>\n",
       "      <td>0.0</td>\n",
       "      <td>4216741</td>\n",
       "    </tr>\n",
       "    <tr>\n",
       "      <th>MSFT</th>\n",
       "      <td>407.329987</td>\n",
       "      <td>0.0</td>\n",
       "      <td>407.890015</td>\n",
       "      <td>404.369995</td>\n",
       "      <td>405.630005</td>\n",
       "      <td>0.0</td>\n",
       "      <td>3325775</td>\n",
       "    </tr>\n",
       "  </tbody>\n",
       "</table>\n",
       "<p>66 rows × 7 columns</p>\n",
       "</div>"
      ],
      "text/plain": [
       "Price                   Close  Dividends        High         Low        Open  \\\n",
       "Date       Ticker                                                              \n",
       "2024-08-05 AAPL    209.028061        0.0  213.253166  195.773398  198.859822   \n",
       "           GOOG    160.639999        0.0  165.940002  156.600006  157.369995   \n",
       "           MSFT    394.439056        0.0  400.318474  384.886267  388.469835   \n",
       "2024-08-06 AAPL    206.990402        0.0  209.747221  200.837536  205.062641   \n",
       "           GOOG    160.539993        0.0  162.350006  158.130005  160.945007   \n",
       "...                       ...        ...         ...         ...         ...   \n",
       "2024-09-03 GOOG    158.610001        0.0  163.380005  157.854996  163.315002   \n",
       "           MSFT    409.440002        0.0  419.880005  407.029999  417.910004   \n",
       "2024-09-04 AAPL    217.800003        0.0  221.755005  217.574997  221.660004   \n",
       "           GOOG    158.910004        0.0  160.399994  157.960007  158.089996   \n",
       "           MSFT    407.329987        0.0  407.890015  404.369995  405.630005   \n",
       "\n",
       "Price              Stock Splits     Volume  \n",
       "Date       Ticker                           \n",
       "2024-08-05 AAPL             0.0  119548600  \n",
       "           GOOG             0.0   34907800  \n",
       "           MSFT             0.0   40709200  \n",
       "2024-08-06 AAPL             0.0   69660500  \n",
       "           GOOG             0.0   36146500  \n",
       "...                         ...        ...  \n",
       "2024-09-03 GOOG             0.0   26508900  \n",
       "           MSFT             0.0   20285900  \n",
       "2024-09-04 AAPL             0.0   12144671  \n",
       "           GOOG             0.0    4216741  \n",
       "           MSFT             0.0    3325775  \n",
       "\n",
       "[66 rows x 7 columns]"
      ]
     },
     "execution_count": 37,
     "metadata": {},
     "output_type": "execute_result"
    }
   ],
   "source": [
    "tickers.history(period='1mo').stack(-1)"
   ]
  },
  {
   "cell_type": "code",
   "execution_count": 38,
   "metadata": {
    "ExecuteTime": {
     "end_time": "2020-12-30T22:10:23.280307Z",
     "start_time": "2020-12-30T22:10:23.080251Z"
    }
   },
   "outputs": [
    {
     "name": "stderr",
     "output_type": "stream",
     "text": [
      "[*********************100%%**********************]  2 of 2 completed\n"
     ]
    }
   ],
   "source": [
    "data = yf.download(\"SPY AAPL\", start=\"2020-01-01\", end=\"2020-01-05\")"
   ]
  },
  {
   "cell_type": "code",
   "execution_count": 39,
   "metadata": {
    "ExecuteTime": {
     "end_time": "2020-12-30T22:10:23.290789Z",
     "start_time": "2020-12-30T22:10:23.281500Z"
    }
   },
   "outputs": [
    {
     "name": "stdout",
     "output_type": "stream",
     "text": [
      "<class 'pandas.core.frame.DataFrame'>\n",
      "DatetimeIndex: 2 entries, 2020-01-02 to 2020-01-03\n",
      "Data columns (total 12 columns):\n",
      " #   Column             Non-Null Count  Dtype  \n",
      "---  ------             --------------  -----  \n",
      " 0   (Adj Close, AAPL)  2 non-null      float64\n",
      " 1   (Adj Close, SPY)   2 non-null      float64\n",
      " 2   (Close, AAPL)      2 non-null      float64\n",
      " 3   (Close, SPY)       2 non-null      float64\n",
      " 4   (High, AAPL)       2 non-null      float64\n",
      " 5   (High, SPY)        2 non-null      float64\n",
      " 6   (Low, AAPL)        2 non-null      float64\n",
      " 7   (Low, SPY)         2 non-null      float64\n",
      " 8   (Open, AAPL)       2 non-null      float64\n",
      " 9   (Open, SPY)        2 non-null      float64\n",
      " 10  (Volume, AAPL)     2 non-null      int64  \n",
      " 11  (Volume, SPY)      2 non-null      int64  \n",
      "dtypes: float64(10), int64(2)\n",
      "memory usage: 208.0 bytes\n"
     ]
    }
   ],
   "source": [
    "data.info()"
   ]
  },
  {
   "cell_type": "code",
   "execution_count": 40,
   "metadata": {
    "ExecuteTime": {
     "end_time": "2020-12-30T22:10:23.890433Z",
     "start_time": "2020-12-30T22:10:23.292190Z"
    }
   },
   "outputs": [
    {
     "name": "stderr",
     "output_type": "stream",
     "text": [
      "[*********************100%%**********************]  3 of 3 completed\n"
     ]
    }
   ],
   "source": [
    "data = yf.download(\n",
    "        tickers = \"SPY AAPL MSFT\", # list or string\n",
    "\n",
    "        # use \"period\" instead of start/end\n",
    "        # valid periods: 1d,5d,1mo,3mo,6mo,1y,2y,5y,10y,ytd,max\n",
    "        # (optional, default is '1mo')\n",
    "        period = \"5d\",\n",
    "\n",
    "        # fetch data by interval (including intraday if period < 60 days)\n",
    "        # valid intervals: 1m,2m,5m,15m,30m,60m,90m,1h,1d,5d,1wk,1mo,3mo\n",
    "        # (optional, default is '1d')\n",
    "        interval = \"1m\",\n",
    "\n",
    "        # group by ticker (to access via data['SPY'])\n",
    "        # (optional, default is 'column')\n",
    "        group_by = 'ticker',\n",
    "\n",
    "        # adjust all OHLC automatically\n",
    "        # (optional, default is False)\n",
    "        auto_adjust = True,\n",
    "\n",
    "        # download pre/post regular market hours data\n",
    "        # (optional, default is False)\n",
    "        prepost = True,\n",
    "\n",
    "        # use threads for mass downloading? (True/False/Integer)\n",
    "        # (optional, default is True)\n",
    "        threads = True,\n",
    "\n",
    "        # proxy URL scheme use use when downloading?\n",
    "        # (optional, default is None)\n",
    "        proxy = None\n",
    "    )"
   ]
  },
  {
   "cell_type": "code",
   "execution_count": 41,
   "metadata": {
    "ExecuteTime": {
     "end_time": "2020-12-30T22:10:23.905366Z",
     "start_time": "2020-12-30T22:10:23.891377Z"
    }
   },
   "outputs": [
    {
     "name": "stdout",
     "output_type": "stream",
     "text": [
      "<class 'pandas.core.frame.DataFrame'>\n",
      "DatetimeIndex: 4210 entries, 2024-08-28 04:00:00-04:00 to 2024-09-04 10:21:00-04:00\n",
      "Data columns (total 15 columns):\n",
      " #   Column          Non-Null Count  Dtype  \n",
      "---  ------          --------------  -----  \n",
      " 0   (SPY, Open)     4114 non-null   float64\n",
      " 1   (SPY, High)     4114 non-null   float64\n",
      " 2   (SPY, Low)      4114 non-null   float64\n",
      " 3   (SPY, Close)    4114 non-null   float64\n",
      " 4   (SPY, Volume)   4114 non-null   float64\n",
      " 5   (MSFT, Open)    3741 non-null   float64\n",
      " 6   (MSFT, High)    3741 non-null   float64\n",
      " 7   (MSFT, Low)     3741 non-null   float64\n",
      " 8   (MSFT, Close)   3741 non-null   float64\n",
      " 9   (MSFT, Volume)  3741 non-null   float64\n",
      " 10  (AAPL, Open)    3859 non-null   float64\n",
      " 11  (AAPL, High)    3859 non-null   float64\n",
      " 12  (AAPL, Low)     3859 non-null   float64\n",
      " 13  (AAPL, Close)   3859 non-null   float64\n",
      " 14  (AAPL, Volume)  3859 non-null   float64\n",
      "dtypes: float64(15)\n",
      "memory usage: 526.2 KB\n"
     ]
    }
   ],
   "source": [
    "data.info()"
   ]
  },
  {
   "cell_type": "code",
   "execution_count": 42,
   "metadata": {
    "ExecuteTime": {
     "end_time": "2020-12-30T22:10:24.352264Z",
     "start_time": "2020-12-30T22:10:23.906522Z"
    }
   },
   "outputs": [
    {
     "ename": "AttributeError",
     "evalue": "module 'yfinance' has no attribute 'pdr_override'",
     "output_type": "error",
     "traceback": [
      "\u001b[0;31m---------------------------------------------------------------------------\u001b[0m",
      "\u001b[0;31mAttributeError\u001b[0m                            Traceback (most recent call last)",
      "Cell \u001b[0;32mIn[42], line 4\u001b[0m\n\u001b[1;32m      1\u001b[0m \u001b[38;5;28;01mfrom\u001b[39;00m \u001b[38;5;21;01mpandas_datareader\u001b[39;00m \u001b[38;5;28;01mimport\u001b[39;00m data \u001b[38;5;28;01mas\u001b[39;00m pdr\n\u001b[1;32m      3\u001b[0m \u001b[38;5;28;01mimport\u001b[39;00m \u001b[38;5;21;01myfinance\u001b[39;00m \u001b[38;5;28;01mas\u001b[39;00m \u001b[38;5;21;01myf\u001b[39;00m\n\u001b[0;32m----> 4\u001b[0m \u001b[43myf\u001b[49m\u001b[38;5;241;43m.\u001b[39;49m\u001b[43mpdr_override\u001b[49m()\n\u001b[1;32m      6\u001b[0m \u001b[38;5;66;03m# download dataframe\u001b[39;00m\n\u001b[1;32m      7\u001b[0m data \u001b[38;5;241m=\u001b[39m pdr\u001b[38;5;241m.\u001b[39mget_data_yahoo(\u001b[38;5;124m'\u001b[39m\u001b[38;5;124mSPY\u001b[39m\u001b[38;5;124m'\u001b[39m,\n\u001b[1;32m      8\u001b[0m                           start\u001b[38;5;241m=\u001b[39m\u001b[38;5;124m'\u001b[39m\u001b[38;5;124m2017-01-01\u001b[39m\u001b[38;5;124m'\u001b[39m,\n\u001b[1;32m      9\u001b[0m                           end\u001b[38;5;241m=\u001b[39m\u001b[38;5;124m'\u001b[39m\u001b[38;5;124m2019-04-30\u001b[39m\u001b[38;5;124m'\u001b[39m,\n\u001b[1;32m     10\u001b[0m                           auto_adjust\u001b[38;5;241m=\u001b[39m\u001b[38;5;28;01mFalse\u001b[39;00m)\n",
      "\u001b[0;31mAttributeError\u001b[0m: module 'yfinance' has no attribute 'pdr_override'"
     ]
    }
   ],
   "source": [
    "from pandas_datareader import data as pdr\n",
    "\n",
    "import yfinance as yf\n",
    "yf.pdr_override()\n",
    "\n",
    "# download dataframe\n",
    "data = pdr.get_data_yahoo('SPY',\n",
    "                          start='2017-01-01',\n",
    "                          end='2019-04-30',\n",
    "                          auto_adjust=False)"
   ]
  },
  {
   "cell_type": "code",
   "execution_count": null,
   "metadata": {
    "ExecuteTime": {
     "end_time": "2020-12-30T22:10:24.362899Z",
     "start_time": "2020-12-30T22:10:24.354134Z"
    }
   },
   "outputs": [
    {
     "data": {
      "text/html": [
       "<div>\n",
       "<style scoped>\n",
       "    .dataframe tbody tr th:only-of-type {\n",
       "        vertical-align: middle;\n",
       "    }\n",
       "\n",
       "    .dataframe tbody tr th {\n",
       "        vertical-align: top;\n",
       "    }\n",
       "\n",
       "    .dataframe thead th {\n",
       "        text-align: right;\n",
       "    }\n",
       "</style>\n",
       "<table border=\"1\" class=\"dataframe\">\n",
       "  <thead>\n",
       "    <tr style=\"text-align: right;\">\n",
       "      <th></th>\n",
       "      <th>Open</th>\n",
       "      <th>High</th>\n",
       "      <th>Low</th>\n",
       "      <th>Close</th>\n",
       "      <th>Adj Close</th>\n",
       "      <th>Volume</th>\n",
       "    </tr>\n",
       "    <tr>\n",
       "      <th>Date</th>\n",
       "      <th></th>\n",
       "      <th></th>\n",
       "      <th></th>\n",
       "      <th></th>\n",
       "      <th></th>\n",
       "      <th></th>\n",
       "    </tr>\n",
       "  </thead>\n",
       "  <tbody>\n",
       "    <tr>\n",
       "      <th>2019-04-23</th>\n",
       "      <td>290.679993</td>\n",
       "      <td>293.140015</td>\n",
       "      <td>290.420013</td>\n",
       "      <td>292.880005</td>\n",
       "      <td>283.410553</td>\n",
       "      <td>52246600</td>\n",
       "    </tr>\n",
       "    <tr>\n",
       "      <th>2019-04-24</th>\n",
       "      <td>292.790009</td>\n",
       "      <td>293.160004</td>\n",
       "      <td>292.070007</td>\n",
       "      <td>292.230011</td>\n",
       "      <td>282.781616</td>\n",
       "      <td>50392900</td>\n",
       "    </tr>\n",
       "    <tr>\n",
       "      <th>2019-04-25</th>\n",
       "      <td>292.119995</td>\n",
       "      <td>292.779999</td>\n",
       "      <td>290.730011</td>\n",
       "      <td>292.049988</td>\n",
       "      <td>282.607452</td>\n",
       "      <td>57770900</td>\n",
       "    </tr>\n",
       "    <tr>\n",
       "      <th>2019-04-26</th>\n",
       "      <td>292.100006</td>\n",
       "      <td>293.489990</td>\n",
       "      <td>291.239990</td>\n",
       "      <td>293.410004</td>\n",
       "      <td>283.923462</td>\n",
       "      <td>50916400</td>\n",
       "    </tr>\n",
       "    <tr>\n",
       "      <th>2019-04-29</th>\n",
       "      <td>293.510010</td>\n",
       "      <td>294.450012</td>\n",
       "      <td>293.410004</td>\n",
       "      <td>293.869995</td>\n",
       "      <td>284.368561</td>\n",
       "      <td>57197700</td>\n",
       "    </tr>\n",
       "  </tbody>\n",
       "</table>\n",
       "</div>"
      ],
      "text/plain": [
       "                  Open        High         Low       Close   Adj Close  \\\n",
       "Date                                                                     \n",
       "2019-04-23  290.679993  293.140015  290.420013  292.880005  283.410553   \n",
       "2019-04-24  292.790009  293.160004  292.070007  292.230011  282.781616   \n",
       "2019-04-25  292.119995  292.779999  290.730011  292.049988  282.607452   \n",
       "2019-04-26  292.100006  293.489990  291.239990  293.410004  283.923462   \n",
       "2019-04-29  293.510010  294.450012  293.410004  293.869995  284.368561   \n",
       "\n",
       "              Volume  \n",
       "Date                  \n",
       "2019-04-23  52246600  \n",
       "2019-04-24  50392900  \n",
       "2019-04-25  57770900  \n",
       "2019-04-26  50916400  \n",
       "2019-04-29  57197700  "
      ]
     },
     "execution_count": 39,
     "metadata": {},
     "output_type": "execute_result"
    }
   ],
   "source": [
    "# auto_adjust = True\n",
    "data.tail()"
   ]
  },
  {
   "cell_type": "code",
   "execution_count": null,
   "metadata": {
    "ExecuteTime": {
     "end_time": "2020-12-30T22:10:24.380357Z",
     "start_time": "2020-12-30T22:10:24.364065Z"
    }
   },
   "outputs": [
    {
     "data": {
      "text/html": [
       "<div>\n",
       "<style scoped>\n",
       "    .dataframe tbody tr th:only-of-type {\n",
       "        vertical-align: middle;\n",
       "    }\n",
       "\n",
       "    .dataframe tbody tr th {\n",
       "        vertical-align: top;\n",
       "    }\n",
       "\n",
       "    .dataframe thead th {\n",
       "        text-align: right;\n",
       "    }\n",
       "</style>\n",
       "<table border=\"1\" class=\"dataframe\">\n",
       "  <thead>\n",
       "    <tr style=\"text-align: right;\">\n",
       "      <th></th>\n",
       "      <th>Open</th>\n",
       "      <th>High</th>\n",
       "      <th>Low</th>\n",
       "      <th>Close</th>\n",
       "      <th>Adj Close</th>\n",
       "      <th>Volume</th>\n",
       "    </tr>\n",
       "    <tr>\n",
       "      <th>Date</th>\n",
       "      <th></th>\n",
       "      <th></th>\n",
       "      <th></th>\n",
       "      <th></th>\n",
       "      <th></th>\n",
       "      <th></th>\n",
       "    </tr>\n",
       "  </thead>\n",
       "  <tbody>\n",
       "    <tr>\n",
       "      <th>2019-04-23</th>\n",
       "      <td>290.679993</td>\n",
       "      <td>293.140015</td>\n",
       "      <td>290.420013</td>\n",
       "      <td>292.880005</td>\n",
       "      <td>283.410553</td>\n",
       "      <td>52246600</td>\n",
       "    </tr>\n",
       "    <tr>\n",
       "      <th>2019-04-24</th>\n",
       "      <td>292.790009</td>\n",
       "      <td>293.160004</td>\n",
       "      <td>292.070007</td>\n",
       "      <td>292.230011</td>\n",
       "      <td>282.781616</td>\n",
       "      <td>50392900</td>\n",
       "    </tr>\n",
       "    <tr>\n",
       "      <th>2019-04-25</th>\n",
       "      <td>292.119995</td>\n",
       "      <td>292.779999</td>\n",
       "      <td>290.730011</td>\n",
       "      <td>292.049988</td>\n",
       "      <td>282.607452</td>\n",
       "      <td>57770900</td>\n",
       "    </tr>\n",
       "    <tr>\n",
       "      <th>2019-04-26</th>\n",
       "      <td>292.100006</td>\n",
       "      <td>293.489990</td>\n",
       "      <td>291.239990</td>\n",
       "      <td>293.410004</td>\n",
       "      <td>283.923462</td>\n",
       "      <td>50916400</td>\n",
       "    </tr>\n",
       "    <tr>\n",
       "      <th>2019-04-29</th>\n",
       "      <td>293.510010</td>\n",
       "      <td>294.450012</td>\n",
       "      <td>293.410004</td>\n",
       "      <td>293.869995</td>\n",
       "      <td>284.368561</td>\n",
       "      <td>57197700</td>\n",
       "    </tr>\n",
       "  </tbody>\n",
       "</table>\n",
       "</div>"
      ],
      "text/plain": [
       "                  Open        High         Low       Close   Adj Close  \\\n",
       "Date                                                                     \n",
       "2019-04-23  290.679993  293.140015  290.420013  292.880005  283.410553   \n",
       "2019-04-24  292.790009  293.160004  292.070007  292.230011  282.781616   \n",
       "2019-04-25  292.119995  292.779999  290.730011  292.049988  282.607452   \n",
       "2019-04-26  292.100006  293.489990  291.239990  293.410004  283.923462   \n",
       "2019-04-29  293.510010  294.450012  293.410004  293.869995  284.368561   \n",
       "\n",
       "              Volume  \n",
       "Date                  \n",
       "2019-04-23  52246600  \n",
       "2019-04-24  50392900  \n",
       "2019-04-25  57770900  \n",
       "2019-04-26  50916400  \n",
       "2019-04-29  57197700  "
      ]
     },
     "execution_count": 40,
     "metadata": {},
     "output_type": "execute_result"
    }
   ],
   "source": [
    "# auto_adjust = False\n",
    "data.tail()"
   ]
  },
  {
   "cell_type": "code",
   "execution_count": null,
   "metadata": {},
   "outputs": [],
   "source": []
  }
 ],
 "metadata": {
  "kernelspec": {
   "display_name": "Python 3 (ipykernel)",
   "language": "python",
   "name": "python3"
  },
  "language_info": {
   "codemirror_mode": {
    "name": "ipython",
    "version": 3
   },
   "file_extension": ".py",
   "mimetype": "text/x-python",
   "name": "python",
   "nbconvert_exporter": "python",
   "pygments_lexer": "ipython3",
   "version": "3.10.14"
  },
  "toc": {
   "base_numbering": 1,
   "nav_menu": {},
   "number_sections": true,
   "sideBar": true,
   "skip_h1_title": true,
   "title_cell": "Table of Contents",
   "title_sidebar": "Contents",
   "toc_cell": false,
   "toc_position": {},
   "toc_section_display": true,
   "toc_window_display": true
  }
 },
 "nbformat": 4,
 "nbformat_minor": 4
}
