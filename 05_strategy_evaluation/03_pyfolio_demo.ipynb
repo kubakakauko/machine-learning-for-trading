{
 "cells": [
  {
   "cell_type": "markdown",
   "metadata": {},
   "source": [
    "# From `zipline` to `pyfolio`"
   ]
  },
  {
   "cell_type": "markdown",
   "metadata": {},
   "source": [
    "[Pyfolio](http://quantopian.github.io/pyfolio/) facilitates the analysis of portfolio performance and risk in-sample and out-of-sample using many standard metrics. It produces tear sheets covering the analysis of returns, positions, and transactions, as well as event risk during periods of market stress using several built-in scenarios, and also includes Bayesian out-of-sample performance analysis.\n",
    "\n",
    "* Open-source backtester by Quantopian Inc.\n",
    "* Powers Quantopian.com\n",
    "* State-of-the-art portfolio and risk analytics\n",
    "* Various models for transaction costs and slippage.\n",
    "* Open source and free: Apache v2 license\n",
    "* Can be used:\n",
    "   - stand alone\n",
    "   - with Zipline\n",
    "   - on Quantopian"
   ]
  },
  {
   "cell_type": "markdown",
   "metadata": {
    "slideshow": {
     "slide_type": "slide"
    }
   },
   "source": [
    "## Imports & Settings"
   ]
  },
  {
   "cell_type": "code",
   "execution_count": null,
   "metadata": {},
   "outputs": [],
   "source": []
  },
  {
   "cell_type": "code",
   "execution_count": 1,
   "metadata": {
    "ExecuteTime": {
     "end_time": "2021-04-15T20:02:13.610817Z",
     "start_time": "2021-04-15T20:02:13.608746Z"
    }
   },
   "outputs": [],
   "source": [
    "import warnings\n",
    "warnings.filterwarnings('ignore')"
   ]
  },
  {
   "cell_type": "code",
   "execution_count": 2,
   "metadata": {
    "ExecuteTime": {
     "end_time": "2021-04-15T20:02:14.780077Z",
     "start_time": "2021-04-15T20:02:13.612372Z"
    },
    "slideshow": {
     "slide_type": "skip"
    }
   },
   "outputs": [],
   "source": [
    "%matplotlib inline\n",
    "from pathlib import Path\n",
    "\n",
    "import pandas as pd\n",
    "import seaborn as sns\n",
    "import matplotlib.pyplot as plt\n",
    "\n",
    "from pyfolio.utils import extract_rets_pos_txn_from_zipline\n",
    "from pyfolio.plotting import (plot_perf_stats,\n",
    "                              show_perf_stats,\n",
    "                              plot_rolling_beta,\n",
    "                              plot_rolling_returns,\n",
    "                              plot_rolling_sharpe,\n",
    "                              plot_drawdown_periods,\n",
    "                              plot_drawdown_underwater)\n",
    "\n",
    "from pyfolio.timeseries import perf_stats, extract_interesting_date_ranges"
   ]
  },
  {
   "cell_type": "code",
   "execution_count": 3,
   "metadata": {
    "ExecuteTime": {
     "end_time": "2021-04-15T20:02:14.783287Z",
     "start_time": "2021-04-15T20:02:14.781316Z"
    }
   },
   "outputs": [],
   "source": [
    "sns.set_style('whitegrid')"
   ]
  },
  {
   "cell_type": "markdown",
   "metadata": {
    "slideshow": {
     "slide_type": "slide"
    }
   },
   "source": [
    "## Converting data from zipline to pyfolio"
   ]
  },
  {
   "cell_type": "code",
   "execution_count": 4,
   "metadata": {
    "ExecuteTime": {
     "end_time": "2021-04-15T20:02:16.926449Z",
     "start_time": "2021-04-15T20:02:14.784198Z"
    }
   },
   "outputs": [
    {
     "name": "stdout",
     "output_type": "stream",
     "text": [
      "<class 'pandas.core.frame.DataFrame'>\n",
      "DatetimeIndex: 1008 entries, 2013-01-02 00:00:00+00:00 to 2016-12-30 00:00:00+00:00\n",
      "Data columns (total 39 columns):\n",
      " #   Column                   Non-Null Count  Dtype              \n",
      "---  ------                   --------------  -----              \n",
      " 0   period_open              1008 non-null   datetime64[ns, UTC]\n",
      " 1   period_close             1008 non-null   datetime64[ns, UTC]\n",
      " 2   positions                1008 non-null   object             \n",
      " 3   pnl                      1008 non-null   float64            \n",
      " 4   starting_exposure        1008 non-null   float64            \n",
      " 5   net_leverage             1008 non-null   float64            \n",
      " 6   shorts_count             1008 non-null   int64              \n",
      " 7   orders                   1008 non-null   object             \n",
      " 8   gross_leverage           1008 non-null   float64            \n",
      " 9   ending_exposure          1008 non-null   float64            \n",
      " 10  portfolio_value          1008 non-null   float64            \n",
      " 11  short_exposure           1008 non-null   float64            \n",
      " 12  capital_used             1008 non-null   float64            \n",
      " 13  long_exposure            1008 non-null   float64            \n",
      " 14  ending_value             1008 non-null   float64            \n",
      " 15  short_value              1008 non-null   float64            \n",
      " 16  starting_cash            1008 non-null   float64            \n",
      " 17  long_value               1008 non-null   float64            \n",
      " 18  ending_cash              1008 non-null   float64            \n",
      " 19  returns                  1008 non-null   float64            \n",
      " 20  starting_value           1008 non-null   float64            \n",
      " 21  longs_count              1008 non-null   int64              \n",
      " 22  transactions             1008 non-null   object             \n",
      " 23  factor_data              1008 non-null   object             \n",
      " 24  prices                   1008 non-null   object             \n",
      " 25  sortino                  1004 non-null   float64            \n",
      " 26  sharpe                   1004 non-null   float64            \n",
      " 27  alpha                    0 non-null      object             \n",
      " 28  beta                     0 non-null      object             \n",
      " 29  algorithm_period_return  1008 non-null   float64            \n",
      " 30  benchmark_period_return  1008 non-null   float64            \n",
      " 31  benchmark_volatility     1007 non-null   float64            \n",
      " 32  period_label             1008 non-null   object             \n",
      " 33  trading_days             1008 non-null   int64              \n",
      " 34  algo_volatility          1007 non-null   float64            \n",
      " 35  treasury_period_return   1008 non-null   float64            \n",
      " 36  excess_return            1008 non-null   float64            \n",
      " 37  max_leverage             1008 non-null   float64            \n",
      " 38  max_drawdown             1008 non-null   float64            \n",
      "dtypes: datetime64[ns, UTC](2), float64(26), int64(3), object(8)\n",
      "memory usage: 315.0+ KB\n"
     ]
    }
   ],
   "source": [
    "with pd.HDFStore('backtests.h5') as store:\n",
    "    backtest = store['backtest/equal_weight']\n",
    "backtest.info()"
   ]
  },
  {
   "cell_type": "markdown",
   "metadata": {},
   "source": [
    "`pyfolio` relies on portfolio returns and position data, and can also take into account the transaction costs and slippage losses of trading activity. The metrics are computed using the empyrical library that can also be used on a standalone basis. The performance DataFrame produced by the zipline backtesting engine can be translated into the requisite pyfolio input."
   ]
  },
  {
   "cell_type": "code",
   "execution_count": 5,
   "metadata": {
    "ExecuteTime": {
     "end_time": "2021-04-15T20:02:17.877006Z",
     "start_time": "2021-04-15T20:02:16.927532Z"
    }
   },
   "outputs": [],
   "source": [
    "returns, positions, transactions = extract_rets_pos_txn_from_zipline(backtest)"
   ]
  },
  {
   "cell_type": "code",
   "execution_count": 6,
   "metadata": {
    "ExecuteTime": {
     "end_time": "2021-04-15T20:02:17.883436Z",
     "start_time": "2021-04-15T20:02:17.878365Z"
    }
   },
   "outputs": [
    {
     "data": {
      "text/plain": [
       "2013-01-02 00:00:00+00:00    0.000000\n",
       "2013-01-03 00:00:00+00:00    0.000000\n",
       "2013-01-04 00:00:00+00:00    0.000000\n",
       "2013-01-07 00:00:00+00:00    0.000000\n",
       "2013-01-08 00:00:00+00:00   -0.000005\n",
       "2016-12-23 00:00:00+00:00   -0.000233\n",
       "2016-12-27 00:00:00+00:00    0.000160\n",
       "2016-12-28 00:00:00+00:00   -0.000847\n",
       "2016-12-29 00:00:00+00:00    0.000735\n",
       "2016-12-30 00:00:00+00:00   -0.000606\n",
       "Name: returns, dtype: float64"
      ]
     },
     "execution_count": 6,
     "metadata": {},
     "output_type": "execute_result"
    }
   ],
   "source": [
    "returns.head().append(returns.tail())"
   ]
  },
  {
   "cell_type": "code",
   "execution_count": 7,
   "metadata": {
    "ExecuteTime": {
     "end_time": "2021-04-15T20:02:17.919586Z",
     "start_time": "2021-04-15T20:02:17.885754Z"
    }
   },
   "outputs": [
    {
     "name": "stdout",
     "output_type": "stream",
     "text": [
      "<class 'pandas.core.frame.DataFrame'>\n",
      "DatetimeIndex: 1004 entries, 2013-01-08 00:00:00+00:00 to 2016-12-30 00:00:00+00:00\n",
      "Columns: 750 entries, Equity(0 [A]) to cash\n",
      "dtypes: float64(750)\n",
      "memory usage: 5.8 MB\n"
     ]
    }
   ],
   "source": [
    "positions.info()"
   ]
  },
  {
   "cell_type": "code",
   "execution_count": 8,
   "metadata": {
    "ExecuteTime": {
     "end_time": "2021-04-15T20:02:17.945013Z",
     "start_time": "2021-04-15T20:02:17.920668Z"
    }
   },
   "outputs": [
    {
     "name": "stdout",
     "output_type": "stream",
     "text": [
      "<class 'pandas.core.frame.DataFrame'>\n",
      "DatetimeIndex: 1004 entries, 2013-01-08 00:00:00+00:00 to 2016-12-30 00:00:00+00:00\n",
      "Columns: 750 entries, Equity(0 [A]) to cash\n",
      "dtypes: float64(750)\n",
      "memory usage: 5.8 MB\n"
     ]
    }
   ],
   "source": [
    "positions.columns = [c for c in positions.columns[:-1]] + ['cash']\n",
    "positions.index = positions.index.normalize()\n",
    "positions.info()"
   ]
  },
  {
   "cell_type": "code",
   "execution_count": 9,
   "metadata": {
    "ExecuteTime": {
     "end_time": "2021-04-15T20:02:17.953817Z",
     "start_time": "2021-04-15T20:02:17.945791Z"
    }
   },
   "outputs": [],
   "source": [
    "transactions.symbol = transactions.symbol.apply(lambda x: x.symbol)"
   ]
  },
  {
   "cell_type": "code",
   "execution_count": 10,
   "metadata": {
    "ExecuteTime": {
     "end_time": "2021-04-15T20:02:17.972473Z",
     "start_time": "2021-04-15T20:02:17.954766Z"
    }
   },
   "outputs": [
    {
     "data": {
      "text/html": [
       "<div>\n",
       "<style scoped>\n",
       "    .dataframe tbody tr th:only-of-type {\n",
       "        vertical-align: middle;\n",
       "    }\n",
       "\n",
       "    .dataframe tbody tr th {\n",
       "        vertical-align: top;\n",
       "    }\n",
       "\n",
       "    .dataframe thead th {\n",
       "        text-align: right;\n",
       "    }\n",
       "</style>\n",
       "<table border=\"1\" class=\"dataframe\">\n",
       "  <thead>\n",
       "    <tr style=\"text-align: right;\">\n",
       "      <th></th>\n",
       "      <th>sid</th>\n",
       "      <th>symbol</th>\n",
       "      <th>price</th>\n",
       "      <th>order_id</th>\n",
       "      <th>amount</th>\n",
       "      <th>commission</th>\n",
       "      <th>dt</th>\n",
       "      <th>txn_dollars</th>\n",
       "    </tr>\n",
       "  </thead>\n",
       "  <tbody>\n",
       "    <tr>\n",
       "      <th>2013-01-08 21:00:00+00:00</th>\n",
       "      <td>Equity(85 [AGN])</td>\n",
       "      <td>AGN</td>\n",
       "      <td>86.680005</td>\n",
       "      <td>4b71ca586215486489cf5028d33d880b</td>\n",
       "      <td>2334</td>\n",
       "      <td>None</td>\n",
       "      <td>2013-01-08 21:00:00+00:00</td>\n",
       "      <td>-202311.131306</td>\n",
       "    </tr>\n",
       "    <tr>\n",
       "      <th>2013-01-08 21:00:00+00:00</th>\n",
       "      <td>Equity(213 [ARIA])</td>\n",
       "      <td>ARIA</td>\n",
       "      <td>19.651001</td>\n",
       "      <td>68c4018de2f14893ac73860826f7e7b0</td>\n",
       "      <td>7590</td>\n",
       "      <td>None</td>\n",
       "      <td>2013-01-08 21:00:00+00:00</td>\n",
       "      <td>-149151.099321</td>\n",
       "    </tr>\n",
       "    <tr>\n",
       "      <th>2013-01-08 21:00:00+00:00</th>\n",
       "      <td>Equity(367 [BIIB])</td>\n",
       "      <td>BIIB</td>\n",
       "      <td>144.390001</td>\n",
       "      <td>81b0589e9c774d3fbfe959d14584de23</td>\n",
       "      <td>1365</td>\n",
       "      <td>None</td>\n",
       "      <td>2013-01-08 21:00:00+00:00</td>\n",
       "      <td>-197092.351185</td>\n",
       "    </tr>\n",
       "    <tr>\n",
       "      <th>2013-01-08 21:00:00+00:00</th>\n",
       "      <td>Equity(811 [DFS])</td>\n",
       "      <td>DFS</td>\n",
       "      <td>40.090001</td>\n",
       "      <td>31fd863b4e234e03a600bca57fb54114</td>\n",
       "      <td>5073</td>\n",
       "      <td>None</td>\n",
       "      <td>2013-01-08 21:00:00+00:00</td>\n",
       "      <td>-203376.572741</td>\n",
       "    </tr>\n",
       "    <tr>\n",
       "      <th>2013-01-08 21:00:00+00:00</th>\n",
       "      <td>Equity(1059 [FDO])</td>\n",
       "      <td>FDO</td>\n",
       "      <td>57.320002</td>\n",
       "      <td>cb8b52276a2f4964989c539313209f45</td>\n",
       "      <td>3496</td>\n",
       "      <td>None</td>\n",
       "      <td>2013-01-08 21:00:00+00:00</td>\n",
       "      <td>-200390.728571</td>\n",
       "    </tr>\n",
       "    <tr>\n",
       "      <th>2016-12-29 21:00:00+00:00</th>\n",
       "      <td>Equity(66 [AEO])</td>\n",
       "      <td>AEO</td>\n",
       "      <td>15.270000</td>\n",
       "      <td>ad8087827dea48ebaa26d5fc89f95f0c</td>\n",
       "      <td>3461</td>\n",
       "      <td>None</td>\n",
       "      <td>2016-12-29 21:00:00+00:00</td>\n",
       "      <td>-52849.470534</td>\n",
       "    </tr>\n",
       "    <tr>\n",
       "      <th>2016-12-29 21:00:00+00:00</th>\n",
       "      <td>Equity(833 [DKS])</td>\n",
       "      <td>DKS</td>\n",
       "      <td>52.380000</td>\n",
       "      <td>9db5af72b2614c2abbbe6c159e4fb40f</td>\n",
       "      <td>1063</td>\n",
       "      <td>None</td>\n",
       "      <td>2016-12-29 21:00:00+00:00</td>\n",
       "      <td>-55679.940343</td>\n",
       "    </tr>\n",
       "    <tr>\n",
       "      <th>2016-12-29 21:00:00+00:00</th>\n",
       "      <td>Equity(1757 [MAT])</td>\n",
       "      <td>MAT</td>\n",
       "      <td>27.630000</td>\n",
       "      <td>997f585e96e34724bf588e85d3d3520a</td>\n",
       "      <td>1183</td>\n",
       "      <td>None</td>\n",
       "      <td>2016-12-29 21:00:00+00:00</td>\n",
       "      <td>-32686.290035</td>\n",
       "    </tr>\n",
       "    <tr>\n",
       "      <th>2016-12-30 21:00:00+00:00</th>\n",
       "      <td>Equity(2181 [PDCO])</td>\n",
       "      <td>PDCO</td>\n",
       "      <td>41.030000</td>\n",
       "      <td>98d5e22144b840da9c3edf24a2d87ff3</td>\n",
       "      <td>-119</td>\n",
       "      <td>None</td>\n",
       "      <td>2016-12-30 21:00:00+00:00</td>\n",
       "      <td>4882.569999</td>\n",
       "    </tr>\n",
       "    <tr>\n",
       "      <th>2016-12-30 21:00:00+00:00</th>\n",
       "      <td>Equity(2953 [URBN])</td>\n",
       "      <td>URBN</td>\n",
       "      <td>28.480000</td>\n",
       "      <td>1282334414604ce4ac5e7a4155a4ff52</td>\n",
       "      <td>-1006</td>\n",
       "      <td>None</td>\n",
       "      <td>2016-12-30 21:00:00+00:00</td>\n",
       "      <td>28650.879685</td>\n",
       "    </tr>\n",
       "  </tbody>\n",
       "</table>\n",
       "</div>"
      ],
      "text/plain": [
       "                                           sid symbol       price  \\\n",
       "2013-01-08 21:00:00+00:00     Equity(85 [AGN])    AGN   86.680005   \n",
       "2013-01-08 21:00:00+00:00   Equity(213 [ARIA])   ARIA   19.651001   \n",
       "2013-01-08 21:00:00+00:00   Equity(367 [BIIB])   BIIB  144.390001   \n",
       "2013-01-08 21:00:00+00:00    Equity(811 [DFS])    DFS   40.090001   \n",
       "2013-01-08 21:00:00+00:00   Equity(1059 [FDO])    FDO   57.320002   \n",
       "2016-12-29 21:00:00+00:00     Equity(66 [AEO])    AEO   15.270000   \n",
       "2016-12-29 21:00:00+00:00    Equity(833 [DKS])    DKS   52.380000   \n",
       "2016-12-29 21:00:00+00:00   Equity(1757 [MAT])    MAT   27.630000   \n",
       "2016-12-30 21:00:00+00:00  Equity(2181 [PDCO])   PDCO   41.030000   \n",
       "2016-12-30 21:00:00+00:00  Equity(2953 [URBN])   URBN   28.480000   \n",
       "\n",
       "                                                   order_id  amount  \\\n",
       "2013-01-08 21:00:00+00:00  4b71ca586215486489cf5028d33d880b    2334   \n",
       "2013-01-08 21:00:00+00:00  68c4018de2f14893ac73860826f7e7b0    7590   \n",
       "2013-01-08 21:00:00+00:00  81b0589e9c774d3fbfe959d14584de23    1365   \n",
       "2013-01-08 21:00:00+00:00  31fd863b4e234e03a600bca57fb54114    5073   \n",
       "2013-01-08 21:00:00+00:00  cb8b52276a2f4964989c539313209f45    3496   \n",
       "2016-12-29 21:00:00+00:00  ad8087827dea48ebaa26d5fc89f95f0c    3461   \n",
       "2016-12-29 21:00:00+00:00  9db5af72b2614c2abbbe6c159e4fb40f    1063   \n",
       "2016-12-29 21:00:00+00:00  997f585e96e34724bf588e85d3d3520a    1183   \n",
       "2016-12-30 21:00:00+00:00  98d5e22144b840da9c3edf24a2d87ff3    -119   \n",
       "2016-12-30 21:00:00+00:00  1282334414604ce4ac5e7a4155a4ff52   -1006   \n",
       "\n",
       "                          commission                        dt    txn_dollars  \n",
       "2013-01-08 21:00:00+00:00       None 2013-01-08 21:00:00+00:00 -202311.131306  \n",
       "2013-01-08 21:00:00+00:00       None 2013-01-08 21:00:00+00:00 -149151.099321  \n",
       "2013-01-08 21:00:00+00:00       None 2013-01-08 21:00:00+00:00 -197092.351185  \n",
       "2013-01-08 21:00:00+00:00       None 2013-01-08 21:00:00+00:00 -203376.572741  \n",
       "2013-01-08 21:00:00+00:00       None 2013-01-08 21:00:00+00:00 -200390.728571  \n",
       "2016-12-29 21:00:00+00:00       None 2016-12-29 21:00:00+00:00  -52849.470534  \n",
       "2016-12-29 21:00:00+00:00       None 2016-12-29 21:00:00+00:00  -55679.940343  \n",
       "2016-12-29 21:00:00+00:00       None 2016-12-29 21:00:00+00:00  -32686.290035  \n",
       "2016-12-30 21:00:00+00:00       None 2016-12-30 21:00:00+00:00    4882.569999  \n",
       "2016-12-30 21:00:00+00:00       None 2016-12-30 21:00:00+00:00   28650.879685  "
      ]
     },
     "execution_count": 10,
     "metadata": {},
     "output_type": "execute_result"
    }
   ],
   "source": [
    "transactions.head().append(transactions.tail())"
   ]
  },
  {
   "cell_type": "code",
   "execution_count": 11,
   "metadata": {
    "ExecuteTime": {
     "end_time": "2021-04-15T20:02:17.976136Z",
     "start_time": "2021-04-15T20:02:17.973260Z"
    }
   },
   "outputs": [],
   "source": [
    "HDF_PATH = Path('..', 'data', 'assets.h5')"
   ]
  },
  {
   "cell_type": "markdown",
   "metadata": {},
   "source": [
    "### Sector Map"
   ]
  },
  {
   "cell_type": "code",
   "execution_count": 12,
   "metadata": {
    "ExecuteTime": {
     "end_time": "2021-04-15T20:02:18.015254Z",
     "start_time": "2021-04-15T20:02:17.976840Z"
    }
   },
   "outputs": [
    {
     "ename": "KeyError",
     "evalue": "'No object named us_equities/stocks in the file'",
     "output_type": "error",
     "traceback": [
      "\u001b[0;31m---------------------------------------------------------------------------\u001b[0m",
      "\u001b[0;31mKeyError\u001b[0m                                  Traceback (most recent call last)",
      "Cell \u001b[0;32mIn[12], line 3\u001b[0m\n\u001b[1;32m      1\u001b[0m assets \u001b[38;5;241m=\u001b[39m positions\u001b[38;5;241m.\u001b[39mcolumns[:\u001b[38;5;241m-\u001b[39m\u001b[38;5;241m1\u001b[39m]\n\u001b[1;32m      2\u001b[0m \u001b[38;5;28;01mwith\u001b[39;00m pd\u001b[38;5;241m.\u001b[39mHDFStore(HDF_PATH) \u001b[38;5;28;01mas\u001b[39;00m store:\n\u001b[0;32m----> 3\u001b[0m     df \u001b[38;5;241m=\u001b[39m \u001b[43mstore\u001b[49m\u001b[38;5;241;43m.\u001b[39;49m\u001b[43mget\u001b[49m\u001b[43m(\u001b[49m\u001b[38;5;124;43m'\u001b[39;49m\u001b[38;5;124;43mus_equities/stocks\u001b[39;49m\u001b[38;5;124;43m'\u001b[39;49m\u001b[43m)\u001b[49m[\u001b[38;5;124m'\u001b[39m\u001b[38;5;124msector\u001b[39m\u001b[38;5;124m'\u001b[39m]\u001b[38;5;241m.\u001b[39mdropna()\n\u001b[1;32m      4\u001b[0m     df \u001b[38;5;241m=\u001b[39m df[\u001b[38;5;241m~\u001b[39mdf\u001b[38;5;241m.\u001b[39mindex\u001b[38;5;241m.\u001b[39mduplicated()]\n\u001b[1;32m      5\u001b[0m sector_map \u001b[38;5;241m=\u001b[39m df\u001b[38;5;241m.\u001b[39mreindex(assets)\u001b[38;5;241m.\u001b[39mfillna(\u001b[38;5;124m'\u001b[39m\u001b[38;5;124mUnknown\u001b[39m\u001b[38;5;124m'\u001b[39m)\u001b[38;5;241m.\u001b[39mto_dict()\n",
      "File \u001b[0;32m/usr/local/lib/python3.10/site-packages/pandas/io/pytables.py:796\u001b[0m, in \u001b[0;36mHDFStore.get\u001b[0;34m(self, key)\u001b[0m\n\u001b[1;32m    794\u001b[0m group \u001b[38;5;241m=\u001b[39m \u001b[38;5;28mself\u001b[39m\u001b[38;5;241m.\u001b[39mget_node(key)\n\u001b[1;32m    795\u001b[0m \u001b[38;5;28;01mif\u001b[39;00m group \u001b[38;5;129;01mis\u001b[39;00m \u001b[38;5;28;01mNone\u001b[39;00m:\n\u001b[0;32m--> 796\u001b[0m     \u001b[38;5;28;01mraise\u001b[39;00m \u001b[38;5;167;01mKeyError\u001b[39;00m(\u001b[38;5;124mf\u001b[39m\u001b[38;5;124m\"\u001b[39m\u001b[38;5;124mNo object named \u001b[39m\u001b[38;5;132;01m{\u001b[39;00mkey\u001b[38;5;132;01m}\u001b[39;00m\u001b[38;5;124m in the file\u001b[39m\u001b[38;5;124m\"\u001b[39m)\n\u001b[1;32m    797\u001b[0m \u001b[38;5;28;01mreturn\u001b[39;00m \u001b[38;5;28mself\u001b[39m\u001b[38;5;241m.\u001b[39m_read_group(group)\n",
      "\u001b[0;31mKeyError\u001b[0m: 'No object named us_equities/stocks in the file'"
     ]
    }
   ],
   "source": [
    "assets = positions.columns[:-1]\n",
    "with pd.HDFStore(HDF_PATH) as store:\n",
    "    df = store.get('us_equities/stocks')['sector'].dropna()\n",
    "    df = df[~df.index.duplicated()]\n",
    "sector_map = df.reindex(assets).fillna('Unknown').to_dict()"
   ]
  },
  {
   "cell_type": "markdown",
   "metadata": {},
   "source": [
    "### Benchmark"
   ]
  },
  {
   "cell_type": "code",
   "execution_count": null,
   "metadata": {},
   "outputs": [],
   "source": []
  },
  {
   "cell_type": "code",
   "execution_count": null,
   "metadata": {
    "ExecuteTime": {
     "end_time": "2021-04-15T20:02:18.046254Z",
     "start_time": "2021-04-15T20:02:18.016658Z"
    }
   },
   "outputs": [],
   "source": [
    "with pd.HDFStore(HDF_PATH) as store:\n",
    "    benchmark_rets = store['sp500/fred'].close.pct_change()\n",
    "benchmark_rets.name = 'S&P500'\n",
    "benchmark_rets = benchmark_rets.tz_localize('UTC').filter(returns.index)\n",
    "benchmark_rets.tail()"
   ]
  },
  {
   "cell_type": "code",
   "execution_count": null,
   "metadata": {
    "ExecuteTime": {
     "end_time": "2021-04-15T20:02:18.093904Z",
     "start_time": "2021-04-15T20:02:18.047285Z"
    }
   },
   "outputs": [],
   "source": [
    "perf_stats(returns=returns,\n",
    "           factor_returns=benchmark_rets)\n",
    "#            positions=positions, \n",
    "#            transactions=transactions)"
   ]
  },
  {
   "cell_type": "code",
   "execution_count": null,
   "metadata": {},
   "outputs": [],
   "source": [
    "benchmark_rets.plot()"
   ]
  },
  {
   "cell_type": "code",
   "execution_count": null,
   "metadata": {},
   "outputs": [],
   "source": [
    "returns.plot()"
   ]
  },
  {
   "cell_type": "code",
   "execution_count": null,
   "metadata": {},
   "outputs": [],
   "source": [
    "aligned_returns, aligned_benchmark = returns.align(benchmark_rets, join='inner')"
   ]
  },
  {
   "cell_type": "code",
   "execution_count": null,
   "metadata": {},
   "outputs": [],
   "source": [
    "print(\"Shape of returns:\", returns.shape)\n",
    "print(\"Shape of benchmark_rets:\", benchmark_rets.shape)\n",
    "\n",
    "print(\"Shape of aligned_returns:\", aligned_returns.shape)\n",
    "print(\"Shape of aligned_benchmark:\", aligned_benchmark.shape)"
   ]
  },
  {
   "cell_type": "code",
   "execution_count": null,
   "metadata": {},
   "outputs": [],
   "source": [
    "benchmark_rets = aligned_benchmark\n",
    "returns = aligned_returns"
   ]
  },
  {
   "cell_type": "code",
   "execution_count": null,
   "metadata": {
    "ExecuteTime": {
     "end_time": "2021-04-15T20:02:23.806522Z",
     "start_time": "2021-04-15T20:02:18.094885Z"
    }
   },
   "outputs": [],
   "source": [
    "fig, ax = plt.subplots(figsize=(14, 5))\n",
    "plot_perf_stats(returns=returns, \n",
    "                factor_returns=benchmark_rets,     \n",
    "                ax=ax)\n",
    "sns.despine()\n",
    "fig.tight_layout();"
   ]
  },
  {
   "cell_type": "markdown",
   "metadata": {},
   "source": [
    "## Returns Analysis"
   ]
  },
  {
   "cell_type": "markdown",
   "metadata": {},
   "source": [
    "Testing a trading strategy involves backtesting against historical data to fine-tune alpha factor parameters, as well as forward-testing against new market data to validate that the strategy performs well out of sample or if the parameters are too closely tailored to specific historical circumstances.\n",
    "\n",
    "Pyfolio allows for the designation of an out-of-sample period to simulate walk-forward testing. There are numerous aspects to take into account when testing a strategy to obtain statistically reliable results, which we will address here. "
   ]
  },
  {
   "cell_type": "code",
   "execution_count": null,
   "metadata": {
    "ExecuteTime": {
     "end_time": "2021-04-15T20:02:23.808975Z",
     "start_time": "2021-04-15T20:02:23.807345Z"
    }
   },
   "outputs": [],
   "source": [
    "oos_date = '2016-01-01'"
   ]
  },
  {
   "cell_type": "code",
   "execution_count": null,
   "metadata": {
    "ExecuteTime": {
     "end_time": "2021-04-15T20:02:23.898910Z",
     "start_time": "2021-04-15T20:02:23.809784Z"
    }
   },
   "outputs": [],
   "source": [
    "show_perf_stats(returns=returns, \n",
    "                factor_returns=benchmark_rets, \n",
    "                positions=positions, \n",
    "                transactions=transactions, \n",
    "                live_start_date=oos_date)"
   ]
  },
  {
   "cell_type": "markdown",
   "metadata": {},
   "source": [
    "### Rolling Returns OOS"
   ]
  },
  {
   "cell_type": "markdown",
   "metadata": {},
   "source": [
    "The `plot_rolling_returns` function displays cumulative in and out-of-sample returns against a user-defined benchmark (we are using the S&P 500):\n"
   ]
  },
  {
   "cell_type": "code",
   "execution_count": null,
   "metadata": {
    "ExecuteTime": {
     "end_time": "2021-04-15T20:02:24.269293Z",
     "start_time": "2021-04-15T20:02:23.899796Z"
    }
   },
   "outputs": [],
   "source": [
    "plot_rolling_returns(returns=returns, \n",
    "                     factor_returns=benchmark_rets, \n",
    "                     live_start_date=oos_date, \n",
    "                     cone_std=(1.0, 1.5, 2.0))\n",
    "plt.gcf().set_size_inches(14, 8)\n",
    "sns.despine()\n",
    "plt.tight_layout();"
   ]
  },
  {
   "cell_type": "markdown",
   "metadata": {},
   "source": [
    "The plot includes a cone that shows expanding confidence intervals to indicate when out-of-sample returns appear unlikely given random-walk assumptions. Here, our strategy did not perform well against the benchmark during the simulated 2017 out-of-sample period"
   ]
  },
  {
   "cell_type": "markdown",
   "metadata": {},
   "source": [
    "## Summary Performance Statistics"
   ]
  },
  {
   "cell_type": "markdown",
   "metadata": {},
   "source": [
    "pyfolio offers several analytic functions and plots. The perf_stats summary displays the annual and cumulative returns, volatility, skew, and kurtosis of returns and the SR. The following additional metrics (which can also be calculated individually) are most important:\n",
    "- Max drawdown: Highest percentage loss from the previous peak\n",
    "- Calmar ratio: Annual portfolio return relative to maximal drawdown\n",
    "- Omega ratio: The probability-weighted ratio of gains versus losses for a return target, zero per default\n",
    "- Sortino ratio: Excess return relative to downside standard deviation\n",
    "- Tail ratio: Size of the right tail (gains, the absolute value of the 95th percentile) relative to the size of the left tail (losses, abs. value of the 5th percentile) \n",
    "- Daily value at risk (VaR): Loss corresponding to a return two standard deviations below the daily mean\n",
    "- Alpha: Portfolio return unexplained by the benchmark return\n",
    "- Beta: Exposure to the benchmark\n"
   ]
  },
  {
   "cell_type": "markdown",
   "metadata": {},
   "source": [
    "### Rolling Sharpe"
   ]
  },
  {
   "cell_type": "code",
   "execution_count": null,
   "metadata": {
    "ExecuteTime": {
     "end_time": "2021-04-15T20:02:24.509183Z",
     "start_time": "2021-04-15T20:02:24.270111Z"
    }
   },
   "outputs": [],
   "source": [
    "plot_rolling_sharpe(returns=returns)\n",
    "plt.gcf().set_size_inches(14, 8)\n",
    "sns.despine()\n",
    "plt.tight_layout();"
   ]
  },
  {
   "cell_type": "markdown",
   "metadata": {},
   "source": [
    "### Rolling Beta"
   ]
  },
  {
   "cell_type": "code",
   "execution_count": null,
   "metadata": {
    "ExecuteTime": {
     "end_time": "2021-04-15T20:02:26.165154Z",
     "start_time": "2021-04-15T20:02:24.510014Z"
    }
   },
   "outputs": [],
   "source": [
    "plot_rolling_beta(returns=returns, factor_returns=benchmark_rets)\n",
    "plt.gcf().set_size_inches(14, 6)\n",
    "sns.despine()\n",
    "plt.tight_layout();"
   ]
  },
  {
   "cell_type": "markdown",
   "metadata": {},
   "source": [
    "## Drawdown Periods"
   ]
  },
  {
   "cell_type": "markdown",
   "metadata": {},
   "source": [
    "The plot_drawdown_periods(returns) function plots the principal drawdown periods for the portfolio, and several other plotting functions show the rolling SR and rolling factor exposures to the market beta or the Fama French size, growth, and momentum factors:"
   ]
  },
  {
   "cell_type": "code",
   "execution_count": null,
   "metadata": {
    "ExecuteTime": {
     "end_time": "2021-04-15T20:02:28.463353Z",
     "start_time": "2021-04-15T20:02:26.167232Z"
    }
   },
   "outputs": [],
   "source": [
    "fig, ax = plt.subplots(nrows=2, ncols=2, figsize=(16, 10))\n",
    "axes = ax.flatten()\n",
    "\n",
    "plot_drawdown_periods(returns=returns, ax=axes[0])\n",
    "plot_rolling_beta(returns=returns, factor_returns=benchmark_rets, ax=axes[1])\n",
    "plot_drawdown_underwater(returns=returns, ax=axes[2])\n",
    "plot_rolling_sharpe(returns=returns)\n",
    "sns.despine()\n",
    "plt.tight_layout();"
   ]
  },
  {
   "cell_type": "markdown",
   "metadata": {},
   "source": [
    "This plot, which highlights a subset of the visualization contained in the various tear sheets, illustrates how pyfolio allows us to drill down into the performance characteristics and exposure to fundamental drivers of risk and returns."
   ]
  },
  {
   "cell_type": "markdown",
   "metadata": {},
   "source": [
    "## Modeling Event Risk"
   ]
  },
  {
   "cell_type": "markdown",
   "metadata": {},
   "source": [
    "Pyfolio also includes timelines for various events that you can use to compare the performance of a portfolio to a benchmark during this period, for example, during the fall 2015 selloff following the Brexit vote."
   ]
  },
  {
   "cell_type": "code",
   "execution_count": null,
   "metadata": {
    "ExecuteTime": {
     "end_time": "2021-04-15T20:02:28.670678Z",
     "start_time": "2021-04-15T20:02:28.464482Z"
    }
   },
   "outputs": [],
   "source": [
    "interesting_times = extract_interesting_date_ranges(returns=returns)\n",
    "(interesting_times['Fall2015']\n",
    " .to_frame('momentum_equal_weights').join(benchmark_rets)\n",
    " .add(1).cumprod().sub(1)\n",
    " .plot(lw=2, figsize=(14, 6), title='Post-Brexit Turmoil'))\n",
    "sns.despine()\n",
    "plt.tight_layout();"
   ]
  },
  {
   "cell_type": "code",
   "execution_count": null,
   "metadata": {},
   "outputs": [],
   "source": []
  }
 ],
 "metadata": {
  "celltoolbar": "Slideshow",
  "kernelspec": {
   "display_name": "Python 3 (ipykernel)",
   "language": "python",
   "name": "python3"
  },
  "language_info": {
   "codemirror_mode": {
    "name": "ipython",
    "version": 3
   },
   "file_extension": ".py",
   "mimetype": "text/x-python",
   "name": "python",
   "nbconvert_exporter": "python",
   "pygments_lexer": "ipython3",
   "version": "3.10.14"
  },
  "toc": {
   "base_numbering": 1,
   "nav_menu": {},
   "number_sections": true,
   "sideBar": true,
   "skip_h1_title": true,
   "title_cell": "Table of Contents",
   "title_sidebar": "Contents",
   "toc_cell": false,
   "toc_position": {
    "height": "calc(100% - 180px)",
    "left": "10px",
    "top": "150px",
    "width": "222px"
   },
   "toc_section_display": true,
   "toc_window_display": true
  }
 },
 "nbformat": 4,
 "nbformat_minor": 4
}
