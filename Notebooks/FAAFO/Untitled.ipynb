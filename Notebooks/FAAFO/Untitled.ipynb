{
 "cells": [
  {
   "cell_type": "markdown",
   "id": "9e0d148c-2a58-473b-b141-738ccbab3714",
   "metadata": {},
   "source": [
    "# Imports"
   ]
  },
  {
   "cell_type": "code",
   "execution_count": 1,
   "id": "d7daa9b1-f187-4823-974f-10d6451cbf03",
   "metadata": {},
   "outputs": [],
   "source": [
    "import ccxt\n",
    "import pandas as pd\n",
    "import time\n",
    "import numpy as np\n",
    "import talib as ta\n",
    "from platypus import NSGAII, Problem, Real\n",
    "import random\n",
    "import backtrader as bt\n"
   ]
  },
  {
   "cell_type": "markdown",
   "id": "2a52363f-efac-4c98-8e42-6f4a5e59fe74",
   "metadata": {},
   "source": [
    "# Data download"
   ]
  },
  {
   "cell_type": "code",
   "execution_count": 2,
   "id": "61ae74a7-d5c5-4dff-83ed-beb6f75c27f3",
   "metadata": {},
   "outputs": [],
   "source": [
    "def download_crypto_data(symbol, timeframe='1d', limit=1000):\n",
    "    exchange = ccxt.binance()  # You can use other exchanges\n",
    "    since = exchange.parse8601('2021-01-01T00:00:00Z')\n",
    "    data = []\n",
    "    \n",
    "    while since < exchange.milliseconds():\n",
    "        try:\n",
    "            ohlcv = exchange.fetch_ohlcv(symbol, timeframe=timeframe, since=since, limit=limit)\n",
    "            if len(ohlcv) == 0:\n",
    "                break\n",
    "            data += ohlcv\n",
    "            since = ohlcv[-1][0] + 1\n",
    "            time.sleep(exchange.rateLimit / 1000)  # Be mindful of rate limits\n",
    "        except Exception as e:\n",
    "            print(f\"Error fetching data: {e}\")\n",
    "            break\n",
    "    \n",
    "    df = pd.DataFrame(data, columns=['timestamp', 'open', 'high', 'low', 'close', 'volume'])\n",
    "    df['timestamp'] = pd.to_datetime(df['timestamp'], unit='ms')\n",
    "    df.set_index('timestamp', inplace=True)\n",
    "    return df\n",
    "\n",
    "# Example Usage\n",
    "btc_data = download_crypto_data('BTC/USDT')\n",
    "eth_data = download_crypto_data('ETH/USDT')"
   ]
  },
  {
   "cell_type": "code",
   "execution_count": 3,
   "id": "8c2544f8-7445-4db1-9369-214f4976bbdf",
   "metadata": {},
   "outputs": [
    {
     "data": {
      "text/html": [
       "<div>\n",
       "<style scoped>\n",
       "    .dataframe tbody tr th:only-of-type {\n",
       "        vertical-align: middle;\n",
       "    }\n",
       "\n",
       "    .dataframe tbody tr th {\n",
       "        vertical-align: top;\n",
       "    }\n",
       "\n",
       "    .dataframe thead th {\n",
       "        text-align: right;\n",
       "    }\n",
       "</style>\n",
       "<table border=\"1\" class=\"dataframe\">\n",
       "  <thead>\n",
       "    <tr style=\"text-align: right;\">\n",
       "      <th></th>\n",
       "      <th>open</th>\n",
       "      <th>high</th>\n",
       "      <th>low</th>\n",
       "      <th>close</th>\n",
       "      <th>volume</th>\n",
       "    </tr>\n",
       "    <tr>\n",
       "      <th>timestamp</th>\n",
       "      <th></th>\n",
       "      <th></th>\n",
       "      <th></th>\n",
       "      <th></th>\n",
       "      <th></th>\n",
       "    </tr>\n",
       "  </thead>\n",
       "  <tbody>\n",
       "    <tr>\n",
       "      <th>2024-09-03</th>\n",
       "      <td>2538.00</td>\n",
       "      <td>2553.60</td>\n",
       "      <td>2411.12</td>\n",
       "      <td>2425.29</td>\n",
       "      <td>224793.1299</td>\n",
       "    </tr>\n",
       "    <tr>\n",
       "      <th>2024-09-04</th>\n",
       "      <td>2425.28</td>\n",
       "      <td>2490.00</td>\n",
       "      <td>2306.65</td>\n",
       "      <td>2450.71</td>\n",
       "      <td>384179.3854</td>\n",
       "    </tr>\n",
       "    <tr>\n",
       "      <th>2024-09-05</th>\n",
       "      <td>2450.71</td>\n",
       "      <td>2466.00</td>\n",
       "      <td>2348.04</td>\n",
       "      <td>2368.81</td>\n",
       "      <td>278549.0969</td>\n",
       "    </tr>\n",
       "    <tr>\n",
       "      <th>2024-09-06</th>\n",
       "      <td>2368.81</td>\n",
       "      <td>2408.83</td>\n",
       "      <td>2150.55</td>\n",
       "      <td>2225.23</td>\n",
       "      <td>643027.1110</td>\n",
       "    </tr>\n",
       "    <tr>\n",
       "      <th>2024-09-07</th>\n",
       "      <td>2225.24</td>\n",
       "      <td>2311.27</td>\n",
       "      <td>2220.98</td>\n",
       "      <td>2286.75</td>\n",
       "      <td>167920.3152</td>\n",
       "    </tr>\n",
       "  </tbody>\n",
       "</table>\n",
       "</div>"
      ],
      "text/plain": [
       "               open     high      low    close       volume\n",
       "timestamp                                                  \n",
       "2024-09-03  2538.00  2553.60  2411.12  2425.29  224793.1299\n",
       "2024-09-04  2425.28  2490.00  2306.65  2450.71  384179.3854\n",
       "2024-09-05  2450.71  2466.00  2348.04  2368.81  278549.0969\n",
       "2024-09-06  2368.81  2408.83  2150.55  2225.23  643027.1110\n",
       "2024-09-07  2225.24  2311.27  2220.98  2286.75  167920.3152"
      ]
     },
     "execution_count": 3,
     "metadata": {},
     "output_type": "execute_result"
    }
   ],
   "source": [
    "btc_data.tail()\n",
    "eth_data.tail()"
   ]
  },
  {
   "cell_type": "markdown",
   "id": "3c832849-bdc9-47b6-822c-b07d383bcf4b",
   "metadata": {},
   "source": [
    "# Alphas"
   ]
  },
  {
   "cell_type": "markdown",
   "id": "0fbd78f6-1f6a-4c90-a839-419d80e5061a",
   "metadata": {},
   "source": [
    "## Helpers"
   ]
  },
  {
   "cell_type": "code",
   "execution_count": 4,
   "id": "bd8c3d4a-d384-4aa0-9109-27429e7b2e65",
   "metadata": {},
   "outputs": [],
   "source": [
    "# Helper functions\n",
    "def rank(series):\n",
    "    return series.rank(pct=True)\n",
    "\n",
    "def ts_rank(series, window):\n",
    "    return series.rolling(window).apply(lambda x: rank(x).iloc[-1])\n",
    "\n",
    "def ts_argmax(series, window):\n",
    "    return series.rolling(window).apply(np.argmax) + 1\n",
    "\n",
    "def correlation(x, y, window):\n",
    "    return x.rolling(window).corr(y)"
   ]
  },
  {
   "cell_type": "markdown",
   "id": "7a798414-e61b-49d7-aa3f-217608e3e6c0",
   "metadata": {},
   "source": [
    "## Alphas"
   ]
  },
  {
   "cell_type": "code",
   "execution_count": 5,
   "id": "1e14a313-2331-4329-b34c-05c0465adf78",
   "metadata": {},
   "outputs": [],
   "source": [
    "\n",
    "# Alpha 1\n",
    "def alpha_1(data):\n",
    "    returns = data['close'].pct_change()\n",
    "    cond = np.where(returns < 0, ta.STDDEV(returns, timeperiod=20), data['close'])\n",
    "    return rank(ts_argmax(np.power(cond, 2), 5)) - 0.5\n",
    "\n",
    "# Alpha 2\n",
    "def alpha_2(data):\n",
    "    return -1 * correlation(rank(np.log(data['volume']).diff(2)), rank((data['close'] - data['open']) / data['open']), 6)\n",
    "\n",
    "# Alpha 3\n",
    "def alpha_3(data):\n",
    "    return -1 * correlation(rank(data['open']), rank(data['volume']), 10)\n",
    "\n",
    "# Alpha 4\n",
    "def alpha_4(data):\n",
    "    return -1 * ts_rank(rank(data['low']), 9)\n",
    "\n",
    "# Alpha 5\n",
    "def alpha_5(data):\n",
    "    vwap = (data['close'] * data['volume']).rolling(10).sum() / data['volume'].rolling(10).sum()\n",
    "    return rank(data['open'] - vwap) * (-1 * abs(rank(data['close'] - vwap)))\n",
    "\n",
    "# Alpha 6\n",
    "def alpha_6(data):\n",
    "    return -1 * correlation(data['open'], data['volume'], 10)"
   ]
  },
  {
   "cell_type": "markdown",
   "id": "96069b16-1fba-4fcb-95ce-db4adeed67c7",
   "metadata": {},
   "source": [
    "# MOEA"
   ]
  },
  {
   "cell_type": "code",
   "execution_count": 6,
   "id": "a97549e9-9bb8-4d4d-9bcb-c1c1cb398011",
   "metadata": {},
   "outputs": [
    {
     "ename": "KeyError",
     "evalue": "'alpha_1'",
     "output_type": "error",
     "traceback": [
      "\u001b[0;31m---------------------------------------------------------------------------\u001b[0m",
      "\u001b[0;31mKeyError\u001b[0m                                  Traceback (most recent call last)",
      "File \u001b[0;32m/usr/local/lib/python3.10/site-packages/pandas/core/indexes/base.py:3802\u001b[0m, in \u001b[0;36mIndex.get_loc\u001b[0;34m(self, key, method, tolerance)\u001b[0m\n\u001b[1;32m   3801\u001b[0m \u001b[38;5;28;01mtry\u001b[39;00m:\n\u001b[0;32m-> 3802\u001b[0m     \u001b[38;5;28;01mreturn\u001b[39;00m \u001b[38;5;28;43mself\u001b[39;49m\u001b[38;5;241;43m.\u001b[39;49m\u001b[43m_engine\u001b[49m\u001b[38;5;241;43m.\u001b[39;49m\u001b[43mget_loc\u001b[49m\u001b[43m(\u001b[49m\u001b[43mcasted_key\u001b[49m\u001b[43m)\u001b[49m\n\u001b[1;32m   3803\u001b[0m \u001b[38;5;28;01mexcept\u001b[39;00m \u001b[38;5;167;01mKeyError\u001b[39;00m \u001b[38;5;28;01mas\u001b[39;00m err:\n",
      "File \u001b[0;32m/usr/local/lib/python3.10/site-packages/pandas/_libs/index.pyx:138\u001b[0m, in \u001b[0;36mpandas._libs.index.IndexEngine.get_loc\u001b[0;34m()\u001b[0m\n",
      "File \u001b[0;32m/usr/local/lib/python3.10/site-packages/pandas/_libs/index.pyx:165\u001b[0m, in \u001b[0;36mpandas._libs.index.IndexEngine.get_loc\u001b[0;34m()\u001b[0m\n",
      "File \u001b[0;32mpandas/_libs/hashtable_class_helper.pxi:5745\u001b[0m, in \u001b[0;36mpandas._libs.hashtable.PyObjectHashTable.get_item\u001b[0;34m()\u001b[0m\n",
      "File \u001b[0;32mpandas/_libs/hashtable_class_helper.pxi:5753\u001b[0m, in \u001b[0;36mpandas._libs.hashtable.PyObjectHashTable.get_item\u001b[0;34m()\u001b[0m\n",
      "\u001b[0;31mKeyError\u001b[0m: 'alpha_1'",
      "\nThe above exception was the direct cause of the following exception:\n",
      "\u001b[0;31mKeyError\u001b[0m                                  Traceback (most recent call last)",
      "Cell \u001b[0;32mIn[6], line 21\u001b[0m\n\u001b[1;32m     19\u001b[0m problem \u001b[38;5;241m=\u001b[39m AlphaOptimization(alpha_data)\n\u001b[1;32m     20\u001b[0m algorithm \u001b[38;5;241m=\u001b[39m NSGAII(problem)\n\u001b[0;32m---> 21\u001b[0m \u001b[43malgorithm\u001b[49m\u001b[38;5;241;43m.\u001b[39;49m\u001b[43mrun\u001b[49m\u001b[43m(\u001b[49m\u001b[38;5;241;43m10000\u001b[39;49m\u001b[43m)\u001b[49m\n\u001b[1;32m     23\u001b[0m \u001b[38;5;66;03m# Retrieve results\u001b[39;00m\n\u001b[1;32m     24\u001b[0m best_solution \u001b[38;5;241m=\u001b[39m \u001b[38;5;28mmin\u001b[39m(algorithm\u001b[38;5;241m.\u001b[39mresult, key\u001b[38;5;241m=\u001b[39m\u001b[38;5;28;01mlambda\u001b[39;00m s: s\u001b[38;5;241m.\u001b[39mobjectives[\u001b[38;5;241m0\u001b[39m])  \u001b[38;5;66;03m# Maximize Sharpe Ratio\u001b[39;00m\n",
      "File \u001b[0;32m/usr/local/lib/python3.10/site-packages/platypus/core.py:394\u001b[0m, in \u001b[0;36mAlgorithm.run\u001b[0;34m(self, condition, callback)\u001b[0m\n\u001b[1;32m    391\u001b[0m LOGGER\u001b[38;5;241m.\u001b[39mlog(logging\u001b[38;5;241m.\u001b[39mINFO, \u001b[38;5;124m\"\u001b[39m\u001b[38;5;132;01m%s\u001b[39;00m\u001b[38;5;124m starting\u001b[39m\u001b[38;5;124m\"\u001b[39m, \u001b[38;5;28mtype\u001b[39m(\u001b[38;5;28mself\u001b[39m)\u001b[38;5;241m.\u001b[39m\u001b[38;5;18m__name__\u001b[39m)\n\u001b[1;32m    393\u001b[0m \u001b[38;5;28;01mwhile\u001b[39;00m \u001b[38;5;129;01mnot\u001b[39;00m condition(\u001b[38;5;28mself\u001b[39m):\n\u001b[0;32m--> 394\u001b[0m     \u001b[38;5;28;43mself\u001b[39;49m\u001b[38;5;241;43m.\u001b[39;49m\u001b[43mstep\u001b[49m\u001b[43m(\u001b[49m\u001b[43m)\u001b[49m\n\u001b[1;32m    396\u001b[0m     \u001b[38;5;28;01mif\u001b[39;00m \u001b[38;5;28mself\u001b[39m\u001b[38;5;241m.\u001b[39mlog_frequency \u001b[38;5;129;01mis\u001b[39;00m \u001b[38;5;129;01mnot\u001b[39;00m \u001b[38;5;28;01mNone\u001b[39;00m \u001b[38;5;129;01mand\u001b[39;00m \u001b[38;5;28mself\u001b[39m\u001b[38;5;241m.\u001b[39mnfe \u001b[38;5;241m>\u001b[39m\u001b[38;5;241m=\u001b[39m last_log \u001b[38;5;241m+\u001b[39m \u001b[38;5;28mself\u001b[39m\u001b[38;5;241m.\u001b[39mlog_frequency:\n\u001b[1;32m    397\u001b[0m         LOGGER\u001b[38;5;241m.\u001b[39mlog(logging\u001b[38;5;241m.\u001b[39mINFO,\n\u001b[1;32m    398\u001b[0m                    \u001b[38;5;124m\"\u001b[39m\u001b[38;5;132;01m%s\u001b[39;00m\u001b[38;5;124m running; NFE Complete: \u001b[39m\u001b[38;5;132;01m%d\u001b[39;00m\u001b[38;5;124m, Elapsed Time: \u001b[39m\u001b[38;5;132;01m%s\u001b[39;00m\u001b[38;5;124m\"\u001b[39m,\n\u001b[1;32m    399\u001b[0m                    \u001b[38;5;28mtype\u001b[39m(\u001b[38;5;28mself\u001b[39m)\u001b[38;5;241m.\u001b[39m\u001b[38;5;18m__name__\u001b[39m,\n\u001b[1;32m    400\u001b[0m                    \u001b[38;5;28mself\u001b[39m\u001b[38;5;241m.\u001b[39mnfe,\n\u001b[1;32m    401\u001b[0m                    datetime\u001b[38;5;241m.\u001b[39mtimedelta(seconds\u001b[38;5;241m=\u001b[39mtime\u001b[38;5;241m.\u001b[39mtime()\u001b[38;5;241m-\u001b[39mstart_time))\n",
      "File \u001b[0;32m/usr/local/lib/python3.10/site-packages/platypus/algorithms.py:172\u001b[0m, in \u001b[0;36mNSGAII.step\u001b[0;34m(self)\u001b[0m\n\u001b[1;32m    170\u001b[0m \u001b[38;5;28;01mdef\u001b[39;00m \u001b[38;5;21mstep\u001b[39m(\u001b[38;5;28mself\u001b[39m):\n\u001b[1;32m    171\u001b[0m     \u001b[38;5;28;01mif\u001b[39;00m \u001b[38;5;28mself\u001b[39m\u001b[38;5;241m.\u001b[39mnfe \u001b[38;5;241m==\u001b[39m \u001b[38;5;241m0\u001b[39m:\n\u001b[0;32m--> 172\u001b[0m         \u001b[38;5;28;43mself\u001b[39;49m\u001b[38;5;241;43m.\u001b[39;49m\u001b[43minitialize\u001b[49m\u001b[43m(\u001b[49m\u001b[43m)\u001b[49m\n\u001b[1;32m    173\u001b[0m     \u001b[38;5;28;01melse\u001b[39;00m:\n\u001b[1;32m    174\u001b[0m         \u001b[38;5;28mself\u001b[39m\u001b[38;5;241m.\u001b[39miterate()\n",
      "File \u001b[0;32m/usr/local/lib/python3.10/site-packages/platypus/algorithms.py:182\u001b[0m, in \u001b[0;36mNSGAII.initialize\u001b[0;34m(self)\u001b[0m\n\u001b[1;32m    181\u001b[0m \u001b[38;5;28;01mdef\u001b[39;00m \u001b[38;5;21minitialize\u001b[39m(\u001b[38;5;28mself\u001b[39m):\n\u001b[0;32m--> 182\u001b[0m     \u001b[38;5;28;43msuper\u001b[39;49m\u001b[43m(\u001b[49m\u001b[43m)\u001b[49m\u001b[38;5;241;43m.\u001b[39;49m\u001b[43minitialize\u001b[49m\u001b[43m(\u001b[49m\u001b[43m)\u001b[49m\n\u001b[1;32m    184\u001b[0m     \u001b[38;5;28;01mif\u001b[39;00m \u001b[38;5;28mself\u001b[39m\u001b[38;5;241m.\u001b[39marchive \u001b[38;5;129;01mis\u001b[39;00m \u001b[38;5;129;01mnot\u001b[39;00m \u001b[38;5;28;01mNone\u001b[39;00m:\n\u001b[1;32m    185\u001b[0m         \u001b[38;5;28mself\u001b[39m\u001b[38;5;241m.\u001b[39marchive \u001b[38;5;241m+\u001b[39m\u001b[38;5;241m=\u001b[39m \u001b[38;5;28mself\u001b[39m\u001b[38;5;241m.\u001b[39mpopulation\n",
      "File \u001b[0;32m/usr/local/lib/python3.10/site-packages/platypus/algorithms.py:65\u001b[0m, in \u001b[0;36mAbstractGeneticAlgorithm.initialize\u001b[0;34m(self)\u001b[0m\n\u001b[1;32m     63\u001b[0m \u001b[38;5;28;01mdef\u001b[39;00m \u001b[38;5;21minitialize\u001b[39m(\u001b[38;5;28mself\u001b[39m):\n\u001b[1;32m     64\u001b[0m     \u001b[38;5;28mself\u001b[39m\u001b[38;5;241m.\u001b[39mpopulation \u001b[38;5;241m=\u001b[39m [\u001b[38;5;28mself\u001b[39m\u001b[38;5;241m.\u001b[39mgenerator\u001b[38;5;241m.\u001b[39mgenerate(\u001b[38;5;28mself\u001b[39m\u001b[38;5;241m.\u001b[39mproblem) \u001b[38;5;28;01mfor\u001b[39;00m _ \u001b[38;5;129;01min\u001b[39;00m \u001b[38;5;28mrange\u001b[39m(\u001b[38;5;28mself\u001b[39m\u001b[38;5;241m.\u001b[39mpopulation_size)]\n\u001b[0;32m---> 65\u001b[0m     \u001b[38;5;28;43mself\u001b[39;49m\u001b[38;5;241;43m.\u001b[39;49m\u001b[43mevaluate_all\u001b[49m\u001b[43m(\u001b[49m\u001b[38;5;28;43mself\u001b[39;49m\u001b[38;5;241;43m.\u001b[39;49m\u001b[43mpopulation\u001b[49m\u001b[43m)\u001b[49m\n",
      "File \u001b[0;32m/usr/local/lib/python3.10/site-packages/platypus/core.py:367\u001b[0m, in \u001b[0;36mAlgorithm.evaluate_all\u001b[0;34m(self, solutions)\u001b[0m\n\u001b[1;32m    364\u001b[0m unevaluated \u001b[38;5;241m=\u001b[39m [s \u001b[38;5;28;01mfor\u001b[39;00m s \u001b[38;5;129;01min\u001b[39;00m solutions \u001b[38;5;28;01mif\u001b[39;00m \u001b[38;5;129;01mnot\u001b[39;00m s\u001b[38;5;241m.\u001b[39mevaluated]\n\u001b[1;32m    366\u001b[0m jobs \u001b[38;5;241m=\u001b[39m [_EvaluateJob(s) \u001b[38;5;28;01mfor\u001b[39;00m s \u001b[38;5;129;01min\u001b[39;00m unevaluated]\n\u001b[0;32m--> 367\u001b[0m results \u001b[38;5;241m=\u001b[39m \u001b[38;5;28;43mself\u001b[39;49m\u001b[38;5;241;43m.\u001b[39;49m\u001b[43mevaluator\u001b[49m\u001b[38;5;241;43m.\u001b[39;49m\u001b[43mevaluate_all\u001b[49m\u001b[43m(\u001b[49m\u001b[43mjobs\u001b[49m\u001b[43m)\u001b[49m\n\u001b[1;32m    369\u001b[0m \u001b[38;5;66;03m# if needed, update the original solution with the results\u001b[39;00m\n\u001b[1;32m    370\u001b[0m \u001b[38;5;28;01mfor\u001b[39;00m i, result \u001b[38;5;129;01min\u001b[39;00m \u001b[38;5;28menumerate\u001b[39m(results):\n",
      "File \u001b[0;32m/usr/local/lib/python3.10/site-packages/platypus/evaluator.py:83\u001b[0m, in \u001b[0;36mMapEvaluator.evaluate_all\u001b[0;34m(self, jobs, **kwargs)\u001b[0m\n\u001b[1;32m     80\u001b[0m log_frequency \u001b[38;5;241m=\u001b[39m kwargs\u001b[38;5;241m.\u001b[39mget(\u001b[38;5;124m\"\u001b[39m\u001b[38;5;124mlog_frequency\u001b[39m\u001b[38;5;124m\"\u001b[39m, \u001b[38;5;28;01mNone\u001b[39;00m)\n\u001b[1;32m     82\u001b[0m \u001b[38;5;28;01mif\u001b[39;00m log_frequency \u001b[38;5;129;01mis\u001b[39;00m \u001b[38;5;28;01mNone\u001b[39;00m:\n\u001b[0;32m---> 83\u001b[0m     \u001b[38;5;28;01mreturn\u001b[39;00m \u001b[38;5;28;43mlist\u001b[39;49m\u001b[43m(\u001b[49m\u001b[38;5;28;43mself\u001b[39;49m\u001b[38;5;241;43m.\u001b[39;49m\u001b[43mmap_func\u001b[49m\u001b[43m(\u001b[49m\u001b[43mrun_job\u001b[49m\u001b[43m,\u001b[49m\u001b[43m \u001b[49m\u001b[43mjobs\u001b[49m\u001b[43m)\u001b[49m\u001b[43m)\u001b[49m\n\u001b[1;32m     84\u001b[0m \u001b[38;5;28;01melse\u001b[39;00m:\n\u001b[1;32m     85\u001b[0m     result \u001b[38;5;241m=\u001b[39m []\n",
      "File \u001b[0;32m/usr/local/lib/python3.10/site-packages/platypus/evaluator.py:52\u001b[0m, in \u001b[0;36mrun_job\u001b[0;34m(job)\u001b[0m\n\u001b[1;32m     51\u001b[0m \u001b[38;5;28;01mdef\u001b[39;00m \u001b[38;5;21mrun_job\u001b[39m(job):\n\u001b[0;32m---> 52\u001b[0m     \u001b[43mjob\u001b[49m\u001b[38;5;241;43m.\u001b[39;49m\u001b[43mrun\u001b[49m\u001b[43m(\u001b[49m\u001b[43m)\u001b[49m\n\u001b[1;32m     53\u001b[0m     \u001b[38;5;28;01mreturn\u001b[39;00m job\n",
      "File \u001b[0;32m/usr/local/lib/python3.10/site-packages/platypus/core.py:338\u001b[0m, in \u001b[0;36m_EvaluateJob.run\u001b[0;34m(self)\u001b[0m\n\u001b[1;32m    337\u001b[0m \u001b[38;5;28;01mdef\u001b[39;00m \u001b[38;5;21mrun\u001b[39m(\u001b[38;5;28mself\u001b[39m):\n\u001b[0;32m--> 338\u001b[0m     \u001b[38;5;28;43mself\u001b[39;49m\u001b[38;5;241;43m.\u001b[39;49m\u001b[43msolution\u001b[49m\u001b[38;5;241;43m.\u001b[39;49m\u001b[43mevaluate\u001b[49m\u001b[43m(\u001b[49m\u001b[43m)\u001b[49m\n",
      "File \u001b[0;32m/usr/local/lib/python3.10/site-packages/platypus/core.py:512\u001b[0m, in \u001b[0;36mSolution.evaluate\u001b[0;34m(self)\u001b[0m\n\u001b[1;32m    510\u001b[0m \u001b[38;5;28;01mdef\u001b[39;00m \u001b[38;5;21mevaluate\u001b[39m(\u001b[38;5;28mself\u001b[39m):\n\u001b[1;32m    511\u001b[0m \u001b[38;5;250m    \u001b[39m\u001b[38;5;124;03m\"\"\"Evaluates this solution.\"\"\"\u001b[39;00m\n\u001b[0;32m--> 512\u001b[0m     \u001b[38;5;28;43mself\u001b[39;49m\u001b[38;5;241;43m.\u001b[39;49m\u001b[43mproblem\u001b[49m\u001b[43m(\u001b[49m\u001b[38;5;28;43mself\u001b[39;49m\u001b[43m)\u001b[49m\n",
      "File \u001b[0;32m/usr/local/lib/python3.10/site-packages/platypus/core.py:165\u001b[0m, in \u001b[0;36mProblem.__call__\u001b[0;34m(self, solution)\u001b[0m\n\u001b[1;32m    162\u001b[0m problem \u001b[38;5;241m=\u001b[39m solution\u001b[38;5;241m.\u001b[39mproblem\n\u001b[1;32m    163\u001b[0m solution\u001b[38;5;241m.\u001b[39mvariables[:] \u001b[38;5;241m=\u001b[39m [problem\u001b[38;5;241m.\u001b[39mtypes[i]\u001b[38;5;241m.\u001b[39mdecode(solution\u001b[38;5;241m.\u001b[39mvariables[i]) \u001b[38;5;28;01mfor\u001b[39;00m i \u001b[38;5;129;01min\u001b[39;00m \u001b[38;5;28mrange\u001b[39m(problem\u001b[38;5;241m.\u001b[39mnvars)]\n\u001b[0;32m--> 165\u001b[0m \u001b[38;5;28;43mself\u001b[39;49m\u001b[38;5;241;43m.\u001b[39;49m\u001b[43mevaluate\u001b[49m\u001b[43m(\u001b[49m\u001b[43msolution\u001b[49m\u001b[43m)\u001b[49m\n\u001b[1;32m    167\u001b[0m solution\u001b[38;5;241m.\u001b[39mvariables[:] \u001b[38;5;241m=\u001b[39m [problem\u001b[38;5;241m.\u001b[39mtypes[i]\u001b[38;5;241m.\u001b[39mencode(solution\u001b[38;5;241m.\u001b[39mvariables[i]) \u001b[38;5;28;01mfor\u001b[39;00m i \u001b[38;5;129;01min\u001b[39;00m \u001b[38;5;28mrange\u001b[39m(problem\u001b[38;5;241m.\u001b[39mnvars)]\n\u001b[1;32m    168\u001b[0m solution\u001b[38;5;241m.\u001b[39mconstraint_violation \u001b[38;5;241m=\u001b[39m \u001b[38;5;28msum\u001b[39m([\u001b[38;5;28mabs\u001b[39m(f(x)) \u001b[38;5;28;01mfor\u001b[39;00m (f, x) \u001b[38;5;129;01min\u001b[39;00m \u001b[38;5;28mzip\u001b[39m(solution\u001b[38;5;241m.\u001b[39mproblem\u001b[38;5;241m.\u001b[39mconstraints, solution\u001b[38;5;241m.\u001b[39mconstraints)])\n",
      "Cell \u001b[0;32mIn[6], line 11\u001b[0m, in \u001b[0;36mAlphaOptimization.evaluate\u001b[0;34m(self, solution)\u001b[0m\n\u001b[1;32m      9\u001b[0m \u001b[38;5;28;01mdef\u001b[39;00m \u001b[38;5;21mevaluate\u001b[39m(\u001b[38;5;28mself\u001b[39m, solution):\n\u001b[1;32m     10\u001b[0m     weights \u001b[38;5;241m=\u001b[39m solution\u001b[38;5;241m.\u001b[39mvariables\n\u001b[0;32m---> 11\u001b[0m     portfolio_returns \u001b[38;5;241m=\u001b[39m \u001b[38;5;28;43msum\u001b[39;49m\u001b[43m(\u001b[49m\u001b[43mweights\u001b[49m\u001b[43m[\u001b[49m\u001b[43mi\u001b[49m\u001b[43m]\u001b[49m\u001b[43m \u001b[49m\u001b[38;5;241;43m*\u001b[39;49m\u001b[43m \u001b[49m\u001b[38;5;28;43mself\u001b[39;49m\u001b[38;5;241;43m.\u001b[39;49m\u001b[43mdata\u001b[49m\u001b[43m[\u001b[49m\u001b[38;5;124;43mf\u001b[39;49m\u001b[38;5;124;43m'\u001b[39;49m\u001b[38;5;124;43malpha_\u001b[39;49m\u001b[38;5;132;43;01m{\u001b[39;49;00m\u001b[43mi\u001b[49m\u001b[38;5;241;43m+\u001b[39;49m\u001b[38;5;241;43m1\u001b[39;49m\u001b[38;5;132;43;01m}\u001b[39;49;00m\u001b[38;5;124;43m'\u001b[39;49m\u001b[43m]\u001b[49m\u001b[43m \u001b[49m\u001b[38;5;28;43;01mfor\u001b[39;49;00m\u001b[43m \u001b[49m\u001b[43mi\u001b[49m\u001b[43m \u001b[49m\u001b[38;5;129;43;01min\u001b[39;49;00m\u001b[43m \u001b[49m\u001b[38;5;28;43mrange\u001b[39;49m\u001b[43m(\u001b[49m\u001b[38;5;28;43mlen\u001b[39;49m\u001b[43m(\u001b[49m\u001b[43mweights\u001b[49m\u001b[43m)\u001b[49m\u001b[43m)\u001b[49m\u001b[43m)\u001b[49m\n\u001b[1;32m     12\u001b[0m     sharpe_ratio \u001b[38;5;241m=\u001b[39m portfolio_returns\u001b[38;5;241m.\u001b[39mmean() \u001b[38;5;241m/\u001b[39m portfolio_returns\u001b[38;5;241m.\u001b[39mstd()\n\u001b[1;32m     13\u001b[0m     volatility \u001b[38;5;241m=\u001b[39m portfolio_returns\u001b[38;5;241m.\u001b[39mstd()\n",
      "Cell \u001b[0;32mIn[6], line 11\u001b[0m, in \u001b[0;36m<genexpr>\u001b[0;34m(.0)\u001b[0m\n\u001b[1;32m      9\u001b[0m \u001b[38;5;28;01mdef\u001b[39;00m \u001b[38;5;21mevaluate\u001b[39m(\u001b[38;5;28mself\u001b[39m, solution):\n\u001b[1;32m     10\u001b[0m     weights \u001b[38;5;241m=\u001b[39m solution\u001b[38;5;241m.\u001b[39mvariables\n\u001b[0;32m---> 11\u001b[0m     portfolio_returns \u001b[38;5;241m=\u001b[39m \u001b[38;5;28msum\u001b[39m(weights[i] \u001b[38;5;241m*\u001b[39m \u001b[38;5;28;43mself\u001b[39;49m\u001b[38;5;241;43m.\u001b[39;49m\u001b[43mdata\u001b[49m\u001b[43m[\u001b[49m\u001b[38;5;124;43mf\u001b[39;49m\u001b[38;5;124;43m'\u001b[39;49m\u001b[38;5;124;43malpha_\u001b[39;49m\u001b[38;5;132;43;01m{\u001b[39;49;00m\u001b[43mi\u001b[49m\u001b[38;5;241;43m+\u001b[39;49m\u001b[38;5;241;43m1\u001b[39;49m\u001b[38;5;132;43;01m}\u001b[39;49;00m\u001b[38;5;124;43m'\u001b[39;49m\u001b[43m]\u001b[49m \u001b[38;5;28;01mfor\u001b[39;00m i \u001b[38;5;129;01min\u001b[39;00m \u001b[38;5;28mrange\u001b[39m(\u001b[38;5;28mlen\u001b[39m(weights)))\n\u001b[1;32m     12\u001b[0m     sharpe_ratio \u001b[38;5;241m=\u001b[39m portfolio_returns\u001b[38;5;241m.\u001b[39mmean() \u001b[38;5;241m/\u001b[39m portfolio_returns\u001b[38;5;241m.\u001b[39mstd()\n\u001b[1;32m     13\u001b[0m     volatility \u001b[38;5;241m=\u001b[39m portfolio_returns\u001b[38;5;241m.\u001b[39mstd()\n",
      "File \u001b[0;32m/usr/local/lib/python3.10/site-packages/pandas/core/frame.py:3807\u001b[0m, in \u001b[0;36mDataFrame.__getitem__\u001b[0;34m(self, key)\u001b[0m\n\u001b[1;32m   3805\u001b[0m \u001b[38;5;28;01mif\u001b[39;00m \u001b[38;5;28mself\u001b[39m\u001b[38;5;241m.\u001b[39mcolumns\u001b[38;5;241m.\u001b[39mnlevels \u001b[38;5;241m>\u001b[39m \u001b[38;5;241m1\u001b[39m:\n\u001b[1;32m   3806\u001b[0m     \u001b[38;5;28;01mreturn\u001b[39;00m \u001b[38;5;28mself\u001b[39m\u001b[38;5;241m.\u001b[39m_getitem_multilevel(key)\n\u001b[0;32m-> 3807\u001b[0m indexer \u001b[38;5;241m=\u001b[39m \u001b[38;5;28;43mself\u001b[39;49m\u001b[38;5;241;43m.\u001b[39;49m\u001b[43mcolumns\u001b[49m\u001b[38;5;241;43m.\u001b[39;49m\u001b[43mget_loc\u001b[49m\u001b[43m(\u001b[49m\u001b[43mkey\u001b[49m\u001b[43m)\u001b[49m\n\u001b[1;32m   3808\u001b[0m \u001b[38;5;28;01mif\u001b[39;00m is_integer(indexer):\n\u001b[1;32m   3809\u001b[0m     indexer \u001b[38;5;241m=\u001b[39m [indexer]\n",
      "File \u001b[0;32m/usr/local/lib/python3.10/site-packages/pandas/core/indexes/base.py:3804\u001b[0m, in \u001b[0;36mIndex.get_loc\u001b[0;34m(self, key, method, tolerance)\u001b[0m\n\u001b[1;32m   3802\u001b[0m     \u001b[38;5;28;01mreturn\u001b[39;00m \u001b[38;5;28mself\u001b[39m\u001b[38;5;241m.\u001b[39m_engine\u001b[38;5;241m.\u001b[39mget_loc(casted_key)\n\u001b[1;32m   3803\u001b[0m \u001b[38;5;28;01mexcept\u001b[39;00m \u001b[38;5;167;01mKeyError\u001b[39;00m \u001b[38;5;28;01mas\u001b[39;00m err:\n\u001b[0;32m-> 3804\u001b[0m     \u001b[38;5;28;01mraise\u001b[39;00m \u001b[38;5;167;01mKeyError\u001b[39;00m(key) \u001b[38;5;28;01mfrom\u001b[39;00m \u001b[38;5;21;01merr\u001b[39;00m\n\u001b[1;32m   3805\u001b[0m \u001b[38;5;28;01mexcept\u001b[39;00m \u001b[38;5;167;01mTypeError\u001b[39;00m:\n\u001b[1;32m   3806\u001b[0m     \u001b[38;5;66;03m# If we have a listlike key, _check_indexing_error will raise\u001b[39;00m\n\u001b[1;32m   3807\u001b[0m     \u001b[38;5;66;03m#  InvalidIndexError. Otherwise we fall through and re-raise\u001b[39;00m\n\u001b[1;32m   3808\u001b[0m     \u001b[38;5;66;03m#  the TypeError.\u001b[39;00m\n\u001b[1;32m   3809\u001b[0m     \u001b[38;5;28mself\u001b[39m\u001b[38;5;241m.\u001b[39m_check_indexing_error(key)\n",
      "\u001b[0;31mKeyError\u001b[0m: 'alpha_1'"
     ]
    }
   ],
   "source": [
    "# Define the problem\n",
    "class AlphaOptimization(Problem):\n",
    "    def __init__(self, data, num_alphas=6):\n",
    "        super(AlphaOptimization, self).__init__(num_alphas, 2)  # 2 objectives: Sharpe and Volatility\n",
    "        self.data = data\n",
    "        self.types[:] = [Real(0, 1) for _ in range(num_alphas)]  # Weights for each alpha\n",
    "\n",
    "\n",
    "    def evaluate(self, solution):\n",
    "        weights = solution.variables\n",
    "        portfolio_returns = sum(weights[i] * self.data[f'alpha_{i+1}'] for i in range(len(weights)))\n",
    "        sharpe_ratio = portfolio_returns.mean() / portfolio_returns.std()\n",
    "        volatility = portfolio_returns.std()\n",
    "        solution.objectives[:] = [-sharpe_ratio, volatility]  # Minimize volatility, maximize Sharpe\n",
    "\n",
    "# Example usage\n",
    "alpha_data = pd.DataFrame()  # Suppose we have alpha signals as columns\n",
    "\n",
    "problem = AlphaOptimization(alpha_data)\n",
    "algorithm = NSGAII(problem)\n",
    "algorithm.run(10000)\n",
    "\n",
    "# Retrieve results\n",
    "best_solution = min(algorithm.result, key=lambda s: s.objectives[0])  # Maximize Sharpe Ratio\n",
    "print(\"Best Weights:\", best_solution.variables)"
   ]
  },
  {
   "cell_type": "markdown",
   "id": "58884984-5e62-450c-a44e-4a26f942790d",
   "metadata": {},
   "source": [
    "# Backtesting Using backtrader"
   ]
  },
  {
   "cell_type": "code",
   "execution_count": null,
   "id": "7cab8857-d83b-4071-8078-203ba5a9bff4",
   "metadata": {},
   "outputs": [],
   "source": [
    "\n",
    "class AlphaStrategy(bt.Strategy):\n",
    "    def __init__(self, alphas):\n",
    "        self.alphas = alphas\n",
    "\n",
    "    def next(self):\n",
    "        weights = self.alphas  # Use optimized weights from MOEA\n",
    "        alpha_combination = sum(weights[i] * self.data.lines[i] for i in range(len(weights)))\n",
    "        if alpha_combination > 0:\n",
    "            self.buy()\n",
    "        elif alpha_combination < 0:\n",
    "            self.sell()\n",
    "\n",
    "# Backtest with the data\n",
    "cerebro = bt.Cerebro()\n",
    "cerebro.addstrategy(AlphaStrategy, alphas=best_solution.variables)\n",
    "data = bt.feeds.PandasData(dataname=btc_data)\n",
    "cerebro.adddata(data)\n",
    "cerebro.run()\n",
    "cerebro.plot()\n"
   ]
  },
  {
   "cell_type": "code",
   "execution_count": null,
   "id": "d851d5d1-d997-4d0e-b31b-6da012b8fd07",
   "metadata": {},
   "outputs": [],
   "source": []
  }
 ],
 "metadata": {
  "kernelspec": {
   "display_name": "Python 3 (ipykernel)",
   "language": "python",
   "name": "python3"
  },
  "language_info": {
   "codemirror_mode": {
    "name": "ipython",
    "version": 3
   },
   "file_extension": ".py",
   "mimetype": "text/x-python",
   "name": "python",
   "nbconvert_exporter": "python",
   "pygments_lexer": "ipython3",
   "version": "3.10.14"
  }
 },
 "nbformat": 4,
 "nbformat_minor": 5
}
